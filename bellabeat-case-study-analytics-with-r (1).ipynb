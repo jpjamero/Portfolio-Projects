{
 "cells": [
  {
   "cell_type": "markdown",
   "id": "2054d9e1",
   "metadata": {
    "_execution_state": "idle",
    "_uuid": "051d70d956493feee0c6d64651c6a088724dca2a",
    "papermill": {
     "duration": 0.028855,
     "end_time": "2021-06-11T22:12:05.421211",
     "exception": false,
     "start_time": "2021-06-11T22:12:05.392356",
     "status": "completed"
    },
    "tags": []
   },
   "source": [
    "<h1> Google Data Analytics Capstone Project </h1>\n",
    "\n",
    "#### Author: Jeremy Jamero\n",
    "\n",
    "#### Date Created: 6/9/2021"
   ]
  },
  {
   "cell_type": "markdown",
   "id": "8ce91d4f",
   "metadata": {
    "papermill": {
     "duration": 0.025322,
     "end_time": "2021-06-11T22:12:05.471535",
     "exception": false,
     "start_time": "2021-06-11T22:12:05.446213",
     "status": "completed"
    },
    "tags": []
   },
   "source": [
    "# How Can a Wellness Technology Company Play It Smart?"
   ]
  },
  {
   "cell_type": "markdown",
   "id": "b71b5ecb",
   "metadata": {
    "papermill": {
     "duration": 0.025105,
     "end_time": "2021-06-11T22:12:05.521876",
     "exception": false,
     "start_time": "2021-06-11T22:12:05.496771",
     "status": "completed"
    },
    "tags": []
   },
   "source": [
    "## Step One: **Ask**\n",
    "\n",
    "#### The purpose of this case study is to determine the key usage of Fitbit smartwatches, to better help focus the marketing strategy for Bellabeat Smart Devices, a growing smart device maker with women as their key demographic.\n",
    "\n",
    "#### Key Stakeholders\n",
    "  *  Urška Sršen: Bellabeat’s cofounder and Chief Creative Officer\n",
    "  *  Sando Mur: Mathematician and Bellabeat’s cofounder; key member of the Bellabeat executive team\n",
    "  *  Bellabeat marketing analytics team: A team of data analysts responsible for collecting, analyzing, and reporting data that helps guide Bellabeat’s marketing strategy. You joined this team six months ago and have been busy learning about Bellabeat’’s mission and business goals — as well as how you, as a junior data analyst,can help Bellabeat achieve them."
   ]
  },
  {
   "cell_type": "markdown",
   "id": "69d631e3",
   "metadata": {
    "papermill": {
     "duration": 0.024997,
     "end_time": "2021-06-11T22:12:05.571797",
     "exception": false,
     "start_time": "2021-06-11T22:12:05.546800",
     "status": "completed"
    },
    "tags": []
   },
   "source": [
    "### Business Objectives\n",
    "-   What are some trends in smart device usage?\n",
    "-   How can these trends apply to Bellabeat customers?\n",
    "-   How can these trands influence Bellabeat marketing strategies?"
   ]
  },
  {
   "cell_type": "markdown",
   "id": "e8ae3c48",
   "metadata": {
    "papermill": {
     "duration": 0.024834,
     "end_time": "2021-06-11T22:12:05.621388",
     "exception": false,
     "start_time": "2021-06-11T22:12:05.596554",
     "status": "completed"
    },
    "tags": []
   },
   "source": [
    "### Purpose\n",
    "\n",
    "#### The goal for this case study is mainly to determine daily device usage, to develop a marketing strategy that encourages activity on days where participants are seen to be least active."
   ]
  },
  {
   "cell_type": "markdown",
   "id": "898ad5ea",
   "metadata": {
    "papermill": {
     "duration": 0.024788,
     "end_time": "2021-06-11T22:12:05.671138",
     "exception": false,
     "start_time": "2021-06-11T22:12:05.646350",
     "status": "completed"
    },
    "tags": []
   },
   "source": [
    "### Data\n",
    "\n",
    " #### Sršen encourages us to use FitBit Fitness Tracker Data (CC0: Public Domain, dataset made available through    Mobius): This Kaggle dataset contains personal fitness tracker from thirty fitbit users. Thirty eligible Fitbit   users consented to the submission of personal tracker data, including minute-level output for physical activity,   heart rate, and sleep monitoring. It includes information about daily activity, steps, and heart rate that can be   used to explore users’ habits."
   ]
  },
  {
   "cell_type": "markdown",
   "id": "c107107e",
   "metadata": {
    "papermill": {
     "duration": 0.024983,
     "end_time": "2021-06-11T22:12:05.720977",
     "exception": false,
     "start_time": "2021-06-11T22:12:05.695994",
     "status": "completed"
    },
    "tags": []
   },
   "source": [
    "## Step Two:  **Prepare** \n",
    "\n",
    "#### Now we will prepare the R environment\n",
    "\n"
   ]
  },
  {
   "cell_type": "code",
   "execution_count": 1,
   "id": "6e60cf31",
   "metadata": {
    "_kg_hide-output": true,
    "execution": {
     "iopub.execute_input": "2021-06-11T22:12:05.778954Z",
     "iopub.status.busy": "2021-06-11T22:12:05.775883Z",
     "iopub.status.idle": "2021-06-11T22:14:19.849660Z",
     "shell.execute_reply": "2021-06-11T22:14:19.847305Z"
    },
    "papermill": {
     "duration": 134.104185,
     "end_time": "2021-06-11T22:14:19.850072",
     "exception": false,
     "start_time": "2021-06-11T22:12:05.745887",
     "status": "completed"
    },
    "tags": []
   },
   "outputs": [
    {
     "name": "stderr",
     "output_type": "stream",
     "text": [
      "Installing package into ‘/usr/local/lib/R/site-library’\n",
      "(as ‘lib’ is unspecified)\n",
      "\n",
      "also installing the dependencies ‘gargle’, ‘ids’, ‘dbplyr’, ‘dtplyr’, ‘forcats’, ‘googledrive’, ‘googlesheets4’, ‘haven’, ‘lubridate’, ‘modelr’, ‘reprex’, ‘rvest’\n",
      "\n",
      "\n"
     ]
    }
   ],
   "source": [
    "install.packages(\"tidyverse\")"
   ]
  },
  {
   "cell_type": "code",
   "execution_count": 2,
   "id": "7a842361",
   "metadata": {
    "execution": {
     "iopub.execute_input": "2021-06-11T22:14:19.976581Z",
     "iopub.status.busy": "2021-06-11T22:14:19.938228Z",
     "iopub.status.idle": "2021-06-11T22:14:27.841503Z",
     "shell.execute_reply": "2021-06-11T22:14:27.837258Z"
    },
    "papermill": {
     "duration": 7.935875,
     "end_time": "2021-06-11T22:14:27.841801",
     "exception": false,
     "start_time": "2021-06-11T22:14:19.905926",
     "status": "completed"
    },
    "tags": []
   },
   "outputs": [
    {
     "name": "stderr",
     "output_type": "stream",
     "text": [
      "Installing package into ‘/usr/local/lib/R/site-library’\n",
      "(as ‘lib’ is unspecified)\n",
      "\n"
     ]
    }
   ],
   "source": [
    "install.packages(\"janitor\")"
   ]
  },
  {
   "cell_type": "code",
   "execution_count": 3,
   "id": "5f61c503",
   "metadata": {
    "execution": {
     "iopub.execute_input": "2021-06-11T22:14:27.902210Z",
     "iopub.status.busy": "2021-06-11T22:14:27.899829Z",
     "iopub.status.idle": "2021-06-11T22:14:34.773810Z",
     "shell.execute_reply": "2021-06-11T22:14:34.771407Z"
    },
    "papermill": {
     "duration": 6.904671,
     "end_time": "2021-06-11T22:14:34.774106",
     "exception": false,
     "start_time": "2021-06-11T22:14:27.869435",
     "status": "completed"
    },
    "tags": []
   },
   "outputs": [
    {
     "name": "stderr",
     "output_type": "stream",
     "text": [
      "Installing package into ‘/usr/local/lib/R/site-library’\n",
      "(as ‘lib’ is unspecified)\n",
      "\n"
     ]
    }
   ],
   "source": [
    "install.packages(\"skimr\")"
   ]
  },
  {
   "cell_type": "code",
   "execution_count": 4,
   "id": "93cfddee",
   "metadata": {
    "execution": {
     "iopub.execute_input": "2021-06-11T22:14:34.849523Z",
     "iopub.status.busy": "2021-06-11T22:14:34.833883Z",
     "iopub.status.idle": "2021-06-11T22:14:36.087602Z",
     "shell.execute_reply": "2021-06-11T22:14:36.085524Z"
    },
    "papermill": {
     "duration": 1.285736,
     "end_time": "2021-06-11T22:14:36.087853",
     "exception": false,
     "start_time": "2021-06-11T22:14:34.802117",
     "status": "completed"
    },
    "tags": []
   },
   "outputs": [
    {
     "name": "stderr",
     "output_type": "stream",
     "text": [
      "Warning message in system(\"timedatectl\", intern = TRUE):\n",
      "“running command 'timedatectl' had status 1”\n",
      "── \u001b[1mAttaching packages\u001b[22m ─────────────────────────────────────── tidyverse 1.3.1 ──\n",
      "\n",
      "\u001b[32m✔\u001b[39m \u001b[34mggplot2\u001b[39m 3.3.3     \u001b[32m✔\u001b[39m \u001b[34mpurrr  \u001b[39m 0.3.4\n",
      "\u001b[32m✔\u001b[39m \u001b[34mtibble \u001b[39m 3.1.1     \u001b[32m✔\u001b[39m \u001b[34mdplyr  \u001b[39m 1.0.5\n",
      "\u001b[32m✔\u001b[39m \u001b[34mtidyr  \u001b[39m 1.1.3     \u001b[32m✔\u001b[39m \u001b[34mstringr\u001b[39m 1.4.0\n",
      "\u001b[32m✔\u001b[39m \u001b[34mreadr  \u001b[39m 1.4.0     \u001b[32m✔\u001b[39m \u001b[34mforcats\u001b[39m 0.5.1\n",
      "\n",
      "── \u001b[1mConflicts\u001b[22m ────────────────────────────────────────── tidyverse_conflicts() ──\n",
      "\u001b[31m✖\u001b[39m \u001b[34mdplyr\u001b[39m::\u001b[32mfilter()\u001b[39m masks \u001b[34mstats\u001b[39m::filter()\n",
      "\u001b[31m✖\u001b[39m \u001b[34mdplyr\u001b[39m::\u001b[32mlag()\u001b[39m    masks \u001b[34mstats\u001b[39m::lag()\n",
      "\n",
      "\n",
      "Attaching package: ‘janitor’\n",
      "\n",
      "\n",
      "The following objects are masked from ‘package:stats’:\n",
      "\n",
      "    chisq.test, fisher.test\n",
      "\n",
      "\n"
     ]
    }
   ],
   "source": [
    "library(tidyverse)\n",
    "library(janitor)\n",
    "library(skimr)"
   ]
  },
  {
   "cell_type": "markdown",
   "id": "9eb28464",
   "metadata": {
    "papermill": {
     "duration": 0.02872,
     "end_time": "2021-06-11T22:14:36.145778",
     "exception": false,
     "start_time": "2021-06-11T22:14:36.117058",
     "status": "completed"
    },
    "tags": []
   },
   "source": [
    "#### Now we will import the .csv files with which we will be working"
   ]
  },
  {
   "cell_type": "code",
   "execution_count": 5,
   "id": "4c297ea7",
   "metadata": {
    "execution": {
     "iopub.execute_input": "2021-06-11T22:14:36.215099Z",
     "iopub.status.busy": "2021-06-11T22:14:36.212591Z",
     "iopub.status.idle": "2021-06-11T22:14:36.572938Z",
     "shell.execute_reply": "2021-06-11T22:14:36.570550Z"
    },
    "papermill": {
     "duration": 0.39742,
     "end_time": "2021-06-11T22:14:36.573075",
     "exception": false,
     "start_time": "2021-06-11T22:14:36.175655",
     "status": "completed"
    },
    "tags": []
   },
   "outputs": [
    {
     "name": "stderr",
     "output_type": "stream",
     "text": [
      "\n",
      "\u001b[36m──\u001b[39m \u001b[1m\u001b[1mColumn specification\u001b[1m\u001b[22m \u001b[36m────────────────────────────────────────────────────────\u001b[39m\n",
      "cols(\n",
      "  Id = \u001b[32mcol_double()\u001b[39m,\n",
      "  ActivityDate = \u001b[31mcol_character()\u001b[39m,\n",
      "  TotalSteps = \u001b[32mcol_double()\u001b[39m,\n",
      "  TotalDistance = \u001b[32mcol_double()\u001b[39m,\n",
      "  TrackerDistance = \u001b[32mcol_double()\u001b[39m,\n",
      "  LoggedActivitiesDistance = \u001b[32mcol_double()\u001b[39m,\n",
      "  VeryActiveDistance = \u001b[32mcol_double()\u001b[39m,\n",
      "  ModeratelyActiveDistance = \u001b[32mcol_double()\u001b[39m,\n",
      "  LightActiveDistance = \u001b[32mcol_double()\u001b[39m,\n",
      "  SedentaryActiveDistance = \u001b[32mcol_double()\u001b[39m,\n",
      "  VeryActiveMinutes = \u001b[32mcol_double()\u001b[39m,\n",
      "  FairlyActiveMinutes = \u001b[32mcol_double()\u001b[39m,\n",
      "  LightlyActiveMinutes = \u001b[32mcol_double()\u001b[39m,\n",
      "  SedentaryMinutes = \u001b[32mcol_double()\u001b[39m,\n",
      "  Calories = \u001b[32mcol_double()\u001b[39m\n",
      ")\n",
      "\n",
      "\n",
      "\n",
      "\u001b[36m──\u001b[39m \u001b[1m\u001b[1mColumn specification\u001b[1m\u001b[22m \u001b[36m────────────────────────────────────────────────────────\u001b[39m\n",
      "cols(\n",
      "  Id = \u001b[32mcol_double()\u001b[39m,\n",
      "  ActivityDay = \u001b[31mcol_character()\u001b[39m,\n",
      "  Calories = \u001b[32mcol_double()\u001b[39m\n",
      ")\n",
      "\n",
      "\n",
      "\n",
      "\u001b[36m──\u001b[39m \u001b[1m\u001b[1mColumn specification\u001b[1m\u001b[22m \u001b[36m────────────────────────────────────────────────────────\u001b[39m\n",
      "cols(\n",
      "  Id = \u001b[32mcol_double()\u001b[39m,\n",
      "  ActivityDay = \u001b[31mcol_character()\u001b[39m,\n",
      "  SedentaryMinutes = \u001b[32mcol_double()\u001b[39m,\n",
      "  LightlyActiveMinutes = \u001b[32mcol_double()\u001b[39m,\n",
      "  FairlyActiveMinutes = \u001b[32mcol_double()\u001b[39m,\n",
      "  VeryActiveMinutes = \u001b[32mcol_double()\u001b[39m,\n",
      "  SedentaryActiveDistance = \u001b[32mcol_double()\u001b[39m,\n",
      "  LightActiveDistance = \u001b[32mcol_double()\u001b[39m,\n",
      "  ModeratelyActiveDistance = \u001b[32mcol_double()\u001b[39m,\n",
      "  VeryActiveDistance = \u001b[32mcol_double()\u001b[39m\n",
      ")\n",
      "\n",
      "\n",
      "\n",
      "\u001b[36m──\u001b[39m \u001b[1m\u001b[1mColumn specification\u001b[1m\u001b[22m \u001b[36m────────────────────────────────────────────────────────\u001b[39m\n",
      "cols(\n",
      "  Id = \u001b[32mcol_double()\u001b[39m,\n",
      "  ActivityDay = \u001b[31mcol_character()\u001b[39m,\n",
      "  StepTotal = \u001b[32mcol_double()\u001b[39m\n",
      ")\n",
      "\n",
      "\n",
      "\n",
      "\u001b[36m──\u001b[39m \u001b[1m\u001b[1mColumn specification\u001b[1m\u001b[22m \u001b[36m────────────────────────────────────────────────────────\u001b[39m\n",
      "cols(\n",
      "  Id = \u001b[32mcol_double()\u001b[39m,\n",
      "  SleepDay = \u001b[31mcol_character()\u001b[39m,\n",
      "  TotalSleepRecords = \u001b[32mcol_double()\u001b[39m,\n",
      "  TotalMinutesAsleep = \u001b[32mcol_double()\u001b[39m,\n",
      "  TotalTimeInBed = \u001b[32mcol_double()\u001b[39m\n",
      ")\n",
      "\n",
      "\n",
      "\n",
      "\u001b[36m──\u001b[39m \u001b[1m\u001b[1mColumn specification\u001b[1m\u001b[22m \u001b[36m────────────────────────────────────────────────────────\u001b[39m\n",
      "cols(\n",
      "  Id = \u001b[32mcol_double()\u001b[39m,\n",
      "  Date = \u001b[31mcol_character()\u001b[39m,\n",
      "  WeightKg = \u001b[32mcol_double()\u001b[39m,\n",
      "  WeightPounds = \u001b[32mcol_double()\u001b[39m,\n",
      "  Fat = \u001b[32mcol_double()\u001b[39m,\n",
      "  BMI = \u001b[32mcol_double()\u001b[39m,\n",
      "  IsManualReport = \u001b[33mcol_logical()\u001b[39m,\n",
      "  LogId = \u001b[32mcol_double()\u001b[39m\n",
      ")\n",
      "\n",
      "\n"
     ]
    }
   ],
   "source": [
    "daily_activity <- read_csv(\"../input/fitbit/Fitabase Data 4.12.16-5.12.16/dailyActivity_merged.csv\")\n",
    "daily_calories <- read_csv(\"../input/fitbit/Fitabase Data 4.12.16-5.12.16/dailyCalories_merged.csv\")\n",
    "daily_intensities <- read_csv(\"../input/fitbit/Fitabase Data 4.12.16-5.12.16/dailyIntensities_merged.csv\")\n",
    "daily_steps <- read_csv(\"../input/fitbit/Fitabase Data 4.12.16-5.12.16/dailySteps_merged.csv\")\n",
    "daily_sleep <- read_csv(\"../input/fitbit/Fitabase Data 4.12.16-5.12.16/sleepDay_merged.csv\")\n",
    "weight_log <- read_csv(\"../input/fitbit/Fitabase Data 4.12.16-5.12.16/weightLogInfo_merged.csv\")"
   ]
  },
  {
   "cell_type": "markdown",
   "id": "31f7dfab",
   "metadata": {
    "papermill": {
     "duration": 0.030586,
     "end_time": "2021-06-11T22:14:36.635201",
     "exception": false,
     "start_time": "2021-06-11T22:14:36.604615",
     "status": "completed"
    },
    "tags": []
   },
   "source": [
    "#### Inspect each dataset"
   ]
  },
  {
   "cell_type": "code",
   "execution_count": 6,
   "id": "51370a15",
   "metadata": {
    "execution": {
     "iopub.execute_input": "2021-06-11T22:14:36.701851Z",
     "iopub.status.busy": "2021-06-11T22:14:36.699702Z",
     "iopub.status.idle": "2021-06-11T22:14:36.761239Z",
     "shell.execute_reply": "2021-06-11T22:14:36.759637Z"
    },
    "papermill": {
     "duration": 0.096134,
     "end_time": "2021-06-11T22:14:36.761418",
     "exception": false,
     "start_time": "2021-06-11T22:14:36.665284",
     "status": "completed"
    },
    "tags": []
   },
   "outputs": [
    {
     "data": {
      "text/html": [
       "<table class=\"dataframe\">\n",
       "<caption>A tibble: 6 × 15</caption>\n",
       "<thead>\n",
       "\t<tr><th scope=col>Id</th><th scope=col>ActivityDate</th><th scope=col>TotalSteps</th><th scope=col>TotalDistance</th><th scope=col>TrackerDistance</th><th scope=col>LoggedActivitiesDistance</th><th scope=col>VeryActiveDistance</th><th scope=col>ModeratelyActiveDistance</th><th scope=col>LightActiveDistance</th><th scope=col>SedentaryActiveDistance</th><th scope=col>VeryActiveMinutes</th><th scope=col>FairlyActiveMinutes</th><th scope=col>LightlyActiveMinutes</th><th scope=col>SedentaryMinutes</th><th scope=col>Calories</th></tr>\n",
       "\t<tr><th scope=col>&lt;dbl&gt;</th><th scope=col>&lt;chr&gt;</th><th scope=col>&lt;dbl&gt;</th><th scope=col>&lt;dbl&gt;</th><th scope=col>&lt;dbl&gt;</th><th scope=col>&lt;dbl&gt;</th><th scope=col>&lt;dbl&gt;</th><th scope=col>&lt;dbl&gt;</th><th scope=col>&lt;dbl&gt;</th><th scope=col>&lt;dbl&gt;</th><th scope=col>&lt;dbl&gt;</th><th scope=col>&lt;dbl&gt;</th><th scope=col>&lt;dbl&gt;</th><th scope=col>&lt;dbl&gt;</th><th scope=col>&lt;dbl&gt;</th></tr>\n",
       "</thead>\n",
       "<tbody>\n",
       "\t<tr><td>1503960366</td><td>4/12/2016</td><td>13162</td><td>8.50</td><td>8.50</td><td>0</td><td>1.88</td><td>0.55</td><td>6.06</td><td>0</td><td>25</td><td>13</td><td>328</td><td> 728</td><td>1985</td></tr>\n",
       "\t<tr><td>1503960366</td><td>4/13/2016</td><td>10735</td><td>6.97</td><td>6.97</td><td>0</td><td>1.57</td><td>0.69</td><td>4.71</td><td>0</td><td>21</td><td>19</td><td>217</td><td> 776</td><td>1797</td></tr>\n",
       "\t<tr><td>1503960366</td><td>4/14/2016</td><td>10460</td><td>6.74</td><td>6.74</td><td>0</td><td>2.44</td><td>0.40</td><td>3.91</td><td>0</td><td>30</td><td>11</td><td>181</td><td>1218</td><td>1776</td></tr>\n",
       "\t<tr><td>1503960366</td><td>4/15/2016</td><td> 9762</td><td>6.28</td><td>6.28</td><td>0</td><td>2.14</td><td>1.26</td><td>2.83</td><td>0</td><td>29</td><td>34</td><td>209</td><td> 726</td><td>1745</td></tr>\n",
       "\t<tr><td>1503960366</td><td>4/16/2016</td><td>12669</td><td>8.16</td><td>8.16</td><td>0</td><td>2.71</td><td>0.41</td><td>5.04</td><td>0</td><td>36</td><td>10</td><td>221</td><td> 773</td><td>1863</td></tr>\n",
       "\t<tr><td>1503960366</td><td>4/17/2016</td><td> 9705</td><td>6.48</td><td>6.48</td><td>0</td><td>3.19</td><td>0.78</td><td>2.51</td><td>0</td><td>38</td><td>20</td><td>164</td><td> 539</td><td>1728</td></tr>\n",
       "</tbody>\n",
       "</table>\n"
      ],
      "text/latex": [
       "A tibble: 6 × 15\n",
       "\\begin{tabular}{lllllllllllllll}\n",
       " Id & ActivityDate & TotalSteps & TotalDistance & TrackerDistance & LoggedActivitiesDistance & VeryActiveDistance & ModeratelyActiveDistance & LightActiveDistance & SedentaryActiveDistance & VeryActiveMinutes & FairlyActiveMinutes & LightlyActiveMinutes & SedentaryMinutes & Calories\\\\\n",
       " <dbl> & <chr> & <dbl> & <dbl> & <dbl> & <dbl> & <dbl> & <dbl> & <dbl> & <dbl> & <dbl> & <dbl> & <dbl> & <dbl> & <dbl>\\\\\n",
       "\\hline\n",
       "\t 1503960366 & 4/12/2016 & 13162 & 8.50 & 8.50 & 0 & 1.88 & 0.55 & 6.06 & 0 & 25 & 13 & 328 &  728 & 1985\\\\\n",
       "\t 1503960366 & 4/13/2016 & 10735 & 6.97 & 6.97 & 0 & 1.57 & 0.69 & 4.71 & 0 & 21 & 19 & 217 &  776 & 1797\\\\\n",
       "\t 1503960366 & 4/14/2016 & 10460 & 6.74 & 6.74 & 0 & 2.44 & 0.40 & 3.91 & 0 & 30 & 11 & 181 & 1218 & 1776\\\\\n",
       "\t 1503960366 & 4/15/2016 &  9762 & 6.28 & 6.28 & 0 & 2.14 & 1.26 & 2.83 & 0 & 29 & 34 & 209 &  726 & 1745\\\\\n",
       "\t 1503960366 & 4/16/2016 & 12669 & 8.16 & 8.16 & 0 & 2.71 & 0.41 & 5.04 & 0 & 36 & 10 & 221 &  773 & 1863\\\\\n",
       "\t 1503960366 & 4/17/2016 &  9705 & 6.48 & 6.48 & 0 & 3.19 & 0.78 & 2.51 & 0 & 38 & 20 & 164 &  539 & 1728\\\\\n",
       "\\end{tabular}\n"
      ],
      "text/markdown": [
       "\n",
       "A tibble: 6 × 15\n",
       "\n",
       "| Id &lt;dbl&gt; | ActivityDate &lt;chr&gt; | TotalSteps &lt;dbl&gt; | TotalDistance &lt;dbl&gt; | TrackerDistance &lt;dbl&gt; | LoggedActivitiesDistance &lt;dbl&gt; | VeryActiveDistance &lt;dbl&gt; | ModeratelyActiveDistance &lt;dbl&gt; | LightActiveDistance &lt;dbl&gt; | SedentaryActiveDistance &lt;dbl&gt; | VeryActiveMinutes &lt;dbl&gt; | FairlyActiveMinutes &lt;dbl&gt; | LightlyActiveMinutes &lt;dbl&gt; | SedentaryMinutes &lt;dbl&gt; | Calories &lt;dbl&gt; |\n",
       "|---|---|---|---|---|---|---|---|---|---|---|---|---|---|---|\n",
       "| 1503960366 | 4/12/2016 | 13162 | 8.50 | 8.50 | 0 | 1.88 | 0.55 | 6.06 | 0 | 25 | 13 | 328 |  728 | 1985 |\n",
       "| 1503960366 | 4/13/2016 | 10735 | 6.97 | 6.97 | 0 | 1.57 | 0.69 | 4.71 | 0 | 21 | 19 | 217 |  776 | 1797 |\n",
       "| 1503960366 | 4/14/2016 | 10460 | 6.74 | 6.74 | 0 | 2.44 | 0.40 | 3.91 | 0 | 30 | 11 | 181 | 1218 | 1776 |\n",
       "| 1503960366 | 4/15/2016 |  9762 | 6.28 | 6.28 | 0 | 2.14 | 1.26 | 2.83 | 0 | 29 | 34 | 209 |  726 | 1745 |\n",
       "| 1503960366 | 4/16/2016 | 12669 | 8.16 | 8.16 | 0 | 2.71 | 0.41 | 5.04 | 0 | 36 | 10 | 221 |  773 | 1863 |\n",
       "| 1503960366 | 4/17/2016 |  9705 | 6.48 | 6.48 | 0 | 3.19 | 0.78 | 2.51 | 0 | 38 | 20 | 164 |  539 | 1728 |\n",
       "\n"
      ],
      "text/plain": [
       "  Id         ActivityDate TotalSteps TotalDistance TrackerDistance\n",
       "1 1503960366 4/12/2016    13162      8.50          8.50           \n",
       "2 1503960366 4/13/2016    10735      6.97          6.97           \n",
       "3 1503960366 4/14/2016    10460      6.74          6.74           \n",
       "4 1503960366 4/15/2016     9762      6.28          6.28           \n",
       "5 1503960366 4/16/2016    12669      8.16          8.16           \n",
       "6 1503960366 4/17/2016     9705      6.48          6.48           \n",
       "  LoggedActivitiesDistance VeryActiveDistance ModeratelyActiveDistance\n",
       "1 0                        1.88               0.55                    \n",
       "2 0                        1.57               0.69                    \n",
       "3 0                        2.44               0.40                    \n",
       "4 0                        2.14               1.26                    \n",
       "5 0                        2.71               0.41                    \n",
       "6 0                        3.19               0.78                    \n",
       "  LightActiveDistance SedentaryActiveDistance VeryActiveMinutes\n",
       "1 6.06                0                       25               \n",
       "2 4.71                0                       21               \n",
       "3 3.91                0                       30               \n",
       "4 2.83                0                       29               \n",
       "5 5.04                0                       36               \n",
       "6 2.51                0                       38               \n",
       "  FairlyActiveMinutes LightlyActiveMinutes SedentaryMinutes Calories\n",
       "1 13                  328                   728             1985    \n",
       "2 19                  217                   776             1797    \n",
       "3 11                  181                  1218             1776    \n",
       "4 34                  209                   726             1745    \n",
       "5 10                  221                   773             1863    \n",
       "6 20                  164                   539             1728    "
      ]
     },
     "metadata": {},
     "output_type": "display_data"
    },
    {
     "name": "stdout",
     "output_type": "stream",
     "text": [
      "Rows: 940\n",
      "Columns: 15\n",
      "$ Id                       \u001b[3m\u001b[90m<dbl>\u001b[39m\u001b[23m 1503960366, 1503960366, 1503960366, 150396036…\n",
      "$ ActivityDate             \u001b[3m\u001b[90m<chr>\u001b[39m\u001b[23m \"4/12/2016\", \"4/13/2016\", \"4/14/2016\", \"4/15/…\n",
      "$ TotalSteps               \u001b[3m\u001b[90m<dbl>\u001b[39m\u001b[23m 13162, 10735, 10460, 9762, 12669, 9705, 13019…\n",
      "$ TotalDistance            \u001b[3m\u001b[90m<dbl>\u001b[39m\u001b[23m 8.50, 6.97, 6.74, 6.28, 8.16, 6.48, 8.59, 9.8…\n",
      "$ TrackerDistance          \u001b[3m\u001b[90m<dbl>\u001b[39m\u001b[23m 8.50, 6.97, 6.74, 6.28, 8.16, 6.48, 8.59, 9.8…\n",
      "$ LoggedActivitiesDistance \u001b[3m\u001b[90m<dbl>\u001b[39m\u001b[23m 0, 0, 0, 0, 0, 0, 0, 0, 0, 0, 0, 0, 0, 0, 0, …\n",
      "$ VeryActiveDistance       \u001b[3m\u001b[90m<dbl>\u001b[39m\u001b[23m 1.88, 1.57, 2.44, 2.14, 2.71, 3.19, 3.25, 3.5…\n",
      "$ ModeratelyActiveDistance \u001b[3m\u001b[90m<dbl>\u001b[39m\u001b[23m 0.55, 0.69, 0.40, 1.26, 0.41, 0.78, 0.64, 1.3…\n",
      "$ LightActiveDistance      \u001b[3m\u001b[90m<dbl>\u001b[39m\u001b[23m 6.06, 4.71, 3.91, 2.83, 5.04, 2.51, 4.71, 5.0…\n",
      "$ SedentaryActiveDistance  \u001b[3m\u001b[90m<dbl>\u001b[39m\u001b[23m 0, 0, 0, 0, 0, 0, 0, 0, 0, 0, 0, 0, 0, 0, 0, …\n",
      "$ VeryActiveMinutes        \u001b[3m\u001b[90m<dbl>\u001b[39m\u001b[23m 25, 21, 30, 29, 36, 38, 42, 50, 28, 19, 66, 4…\n",
      "$ FairlyActiveMinutes      \u001b[3m\u001b[90m<dbl>\u001b[39m\u001b[23m 13, 19, 11, 34, 10, 20, 16, 31, 12, 8, 27, 21…\n",
      "$ LightlyActiveMinutes     \u001b[3m\u001b[90m<dbl>\u001b[39m\u001b[23m 328, 217, 181, 209, 221, 164, 233, 264, 205, …\n",
      "$ SedentaryMinutes         \u001b[3m\u001b[90m<dbl>\u001b[39m\u001b[23m 728, 776, 1218, 726, 773, 539, 1149, 775, 818…\n",
      "$ Calories                 \u001b[3m\u001b[90m<dbl>\u001b[39m\u001b[23m 1985, 1797, 1776, 1745, 1863, 1728, 1921, 203…\n"
     ]
    },
    {
     "data": {
      "text/html": [
       "33"
      ],
      "text/latex": [
       "33"
      ],
      "text/markdown": [
       "33"
      ],
      "text/plain": [
       "[1] 33"
      ]
     },
     "metadata": {},
     "output_type": "display_data"
    }
   ],
   "source": [
    "#daily_activity\n",
    "\n",
    "#data is broken up into four levels of intensities\n",
    "\n",
    "head(daily_activity)\n",
    "glimpse(daily_activity)\n",
    "n_distinct(daily_activity$Id)"
   ]
  },
  {
   "cell_type": "code",
   "execution_count": 7,
   "id": "1ed6b8fd",
   "metadata": {
    "execution": {
     "iopub.execute_input": "2021-06-11T22:14:36.833346Z",
     "iopub.status.busy": "2021-06-11T22:14:36.831129Z",
     "iopub.status.idle": "2021-06-11T22:14:36.870839Z",
     "shell.execute_reply": "2021-06-11T22:14:36.869152Z"
    },
    "papermill": {
     "duration": 0.076401,
     "end_time": "2021-06-11T22:14:36.870971",
     "exception": false,
     "start_time": "2021-06-11T22:14:36.794570",
     "status": "completed"
    },
    "tags": []
   },
   "outputs": [
    {
     "data": {
      "text/html": [
       "<table class=\"dataframe\">\n",
       "<caption>A tibble: 6 × 3</caption>\n",
       "<thead>\n",
       "\t<tr><th scope=col>Id</th><th scope=col>ActivityDay</th><th scope=col>Calories</th></tr>\n",
       "\t<tr><th scope=col>&lt;dbl&gt;</th><th scope=col>&lt;chr&gt;</th><th scope=col>&lt;dbl&gt;</th></tr>\n",
       "</thead>\n",
       "<tbody>\n",
       "\t<tr><td>1503960366</td><td>4/12/2016</td><td>1985</td></tr>\n",
       "\t<tr><td>1503960366</td><td>4/13/2016</td><td>1797</td></tr>\n",
       "\t<tr><td>1503960366</td><td>4/14/2016</td><td>1776</td></tr>\n",
       "\t<tr><td>1503960366</td><td>4/15/2016</td><td>1745</td></tr>\n",
       "\t<tr><td>1503960366</td><td>4/16/2016</td><td>1863</td></tr>\n",
       "\t<tr><td>1503960366</td><td>4/17/2016</td><td>1728</td></tr>\n",
       "</tbody>\n",
       "</table>\n"
      ],
      "text/latex": [
       "A tibble: 6 × 3\n",
       "\\begin{tabular}{lll}\n",
       " Id & ActivityDay & Calories\\\\\n",
       " <dbl> & <chr> & <dbl>\\\\\n",
       "\\hline\n",
       "\t 1503960366 & 4/12/2016 & 1985\\\\\n",
       "\t 1503960366 & 4/13/2016 & 1797\\\\\n",
       "\t 1503960366 & 4/14/2016 & 1776\\\\\n",
       "\t 1503960366 & 4/15/2016 & 1745\\\\\n",
       "\t 1503960366 & 4/16/2016 & 1863\\\\\n",
       "\t 1503960366 & 4/17/2016 & 1728\\\\\n",
       "\\end{tabular}\n"
      ],
      "text/markdown": [
       "\n",
       "A tibble: 6 × 3\n",
       "\n",
       "| Id &lt;dbl&gt; | ActivityDay &lt;chr&gt; | Calories &lt;dbl&gt; |\n",
       "|---|---|---|\n",
       "| 1503960366 | 4/12/2016 | 1985 |\n",
       "| 1503960366 | 4/13/2016 | 1797 |\n",
       "| 1503960366 | 4/14/2016 | 1776 |\n",
       "| 1503960366 | 4/15/2016 | 1745 |\n",
       "| 1503960366 | 4/16/2016 | 1863 |\n",
       "| 1503960366 | 4/17/2016 | 1728 |\n",
       "\n"
      ],
      "text/plain": [
       "  Id         ActivityDay Calories\n",
       "1 1503960366 4/12/2016   1985    \n",
       "2 1503960366 4/13/2016   1797    \n",
       "3 1503960366 4/14/2016   1776    \n",
       "4 1503960366 4/15/2016   1745    \n",
       "5 1503960366 4/16/2016   1863    \n",
       "6 1503960366 4/17/2016   1728    "
      ]
     },
     "metadata": {},
     "output_type": "display_data"
    },
    {
     "name": "stdout",
     "output_type": "stream",
     "text": [
      "Rows: 940\n",
      "Columns: 3\n",
      "$ Id          \u001b[3m\u001b[90m<dbl>\u001b[39m\u001b[23m 1503960366, 1503960366, 1503960366, 1503960366, 1503960366…\n",
      "$ ActivityDay \u001b[3m\u001b[90m<chr>\u001b[39m\u001b[23m \"4/12/2016\", \"4/13/2016\", \"4/14/2016\", \"4/15/2016\", \"4/16/…\n",
      "$ Calories    \u001b[3m\u001b[90m<dbl>\u001b[39m\u001b[23m 1985, 1797, 1776, 1745, 1863, 1728, 1921, 2035, 1786, 1775…\n"
     ]
    },
    {
     "data": {
      "text/html": [
       "33"
      ],
      "text/latex": [
       "33"
      ],
      "text/markdown": [
       "33"
      ],
      "text/plain": [
       "[1] 33"
      ]
     },
     "metadata": {},
     "output_type": "display_data"
    }
   ],
   "source": [
    "#daily calories\n",
    "\n",
    "#here we will see how many participants use the fitbit to track daily calorie burn\n",
    "\n",
    "head(daily_calories)\n",
    "glimpse(daily_calories)\n",
    "n_distinct(daily_calories$Id)"
   ]
  },
  {
   "cell_type": "code",
   "execution_count": 8,
   "id": "1303377c",
   "metadata": {
    "execution": {
     "iopub.execute_input": "2021-06-11T22:14:36.945567Z",
     "iopub.status.busy": "2021-06-11T22:14:36.943234Z",
     "iopub.status.idle": "2021-06-11T22:14:36.994755Z",
     "shell.execute_reply": "2021-06-11T22:14:36.992889Z"
    },
    "papermill": {
     "duration": 0.089861,
     "end_time": "2021-06-11T22:14:36.994910",
     "exception": false,
     "start_time": "2021-06-11T22:14:36.905049",
     "status": "completed"
    },
    "tags": []
   },
   "outputs": [
    {
     "data": {
      "text/html": [
       "<table class=\"dataframe\">\n",
       "<caption>A tibble: 6 × 10</caption>\n",
       "<thead>\n",
       "\t<tr><th scope=col>Id</th><th scope=col>ActivityDay</th><th scope=col>SedentaryMinutes</th><th scope=col>LightlyActiveMinutes</th><th scope=col>FairlyActiveMinutes</th><th scope=col>VeryActiveMinutes</th><th scope=col>SedentaryActiveDistance</th><th scope=col>LightActiveDistance</th><th scope=col>ModeratelyActiveDistance</th><th scope=col>VeryActiveDistance</th></tr>\n",
       "\t<tr><th scope=col>&lt;dbl&gt;</th><th scope=col>&lt;chr&gt;</th><th scope=col>&lt;dbl&gt;</th><th scope=col>&lt;dbl&gt;</th><th scope=col>&lt;dbl&gt;</th><th scope=col>&lt;dbl&gt;</th><th scope=col>&lt;dbl&gt;</th><th scope=col>&lt;dbl&gt;</th><th scope=col>&lt;dbl&gt;</th><th scope=col>&lt;dbl&gt;</th></tr>\n",
       "</thead>\n",
       "<tbody>\n",
       "\t<tr><td>1503960366</td><td>4/12/2016</td><td> 728</td><td>328</td><td>13</td><td>25</td><td>0</td><td>6.06</td><td>0.55</td><td>1.88</td></tr>\n",
       "\t<tr><td>1503960366</td><td>4/13/2016</td><td> 776</td><td>217</td><td>19</td><td>21</td><td>0</td><td>4.71</td><td>0.69</td><td>1.57</td></tr>\n",
       "\t<tr><td>1503960366</td><td>4/14/2016</td><td>1218</td><td>181</td><td>11</td><td>30</td><td>0</td><td>3.91</td><td>0.40</td><td>2.44</td></tr>\n",
       "\t<tr><td>1503960366</td><td>4/15/2016</td><td> 726</td><td>209</td><td>34</td><td>29</td><td>0</td><td>2.83</td><td>1.26</td><td>2.14</td></tr>\n",
       "\t<tr><td>1503960366</td><td>4/16/2016</td><td> 773</td><td>221</td><td>10</td><td>36</td><td>0</td><td>5.04</td><td>0.41</td><td>2.71</td></tr>\n",
       "\t<tr><td>1503960366</td><td>4/17/2016</td><td> 539</td><td>164</td><td>20</td><td>38</td><td>0</td><td>2.51</td><td>0.78</td><td>3.19</td></tr>\n",
       "</tbody>\n",
       "</table>\n"
      ],
      "text/latex": [
       "A tibble: 6 × 10\n",
       "\\begin{tabular}{llllllllll}\n",
       " Id & ActivityDay & SedentaryMinutes & LightlyActiveMinutes & FairlyActiveMinutes & VeryActiveMinutes & SedentaryActiveDistance & LightActiveDistance & ModeratelyActiveDistance & VeryActiveDistance\\\\\n",
       " <dbl> & <chr> & <dbl> & <dbl> & <dbl> & <dbl> & <dbl> & <dbl> & <dbl> & <dbl>\\\\\n",
       "\\hline\n",
       "\t 1503960366 & 4/12/2016 &  728 & 328 & 13 & 25 & 0 & 6.06 & 0.55 & 1.88\\\\\n",
       "\t 1503960366 & 4/13/2016 &  776 & 217 & 19 & 21 & 0 & 4.71 & 0.69 & 1.57\\\\\n",
       "\t 1503960366 & 4/14/2016 & 1218 & 181 & 11 & 30 & 0 & 3.91 & 0.40 & 2.44\\\\\n",
       "\t 1503960366 & 4/15/2016 &  726 & 209 & 34 & 29 & 0 & 2.83 & 1.26 & 2.14\\\\\n",
       "\t 1503960366 & 4/16/2016 &  773 & 221 & 10 & 36 & 0 & 5.04 & 0.41 & 2.71\\\\\n",
       "\t 1503960366 & 4/17/2016 &  539 & 164 & 20 & 38 & 0 & 2.51 & 0.78 & 3.19\\\\\n",
       "\\end{tabular}\n"
      ],
      "text/markdown": [
       "\n",
       "A tibble: 6 × 10\n",
       "\n",
       "| Id &lt;dbl&gt; | ActivityDay &lt;chr&gt; | SedentaryMinutes &lt;dbl&gt; | LightlyActiveMinutes &lt;dbl&gt; | FairlyActiveMinutes &lt;dbl&gt; | VeryActiveMinutes &lt;dbl&gt; | SedentaryActiveDistance &lt;dbl&gt; | LightActiveDistance &lt;dbl&gt; | ModeratelyActiveDistance &lt;dbl&gt; | VeryActiveDistance &lt;dbl&gt; |\n",
       "|---|---|---|---|---|---|---|---|---|---|\n",
       "| 1503960366 | 4/12/2016 |  728 | 328 | 13 | 25 | 0 | 6.06 | 0.55 | 1.88 |\n",
       "| 1503960366 | 4/13/2016 |  776 | 217 | 19 | 21 | 0 | 4.71 | 0.69 | 1.57 |\n",
       "| 1503960366 | 4/14/2016 | 1218 | 181 | 11 | 30 | 0 | 3.91 | 0.40 | 2.44 |\n",
       "| 1503960366 | 4/15/2016 |  726 | 209 | 34 | 29 | 0 | 2.83 | 1.26 | 2.14 |\n",
       "| 1503960366 | 4/16/2016 |  773 | 221 | 10 | 36 | 0 | 5.04 | 0.41 | 2.71 |\n",
       "| 1503960366 | 4/17/2016 |  539 | 164 | 20 | 38 | 0 | 2.51 | 0.78 | 3.19 |\n",
       "\n"
      ],
      "text/plain": [
       "  Id         ActivityDay SedentaryMinutes LightlyActiveMinutes\n",
       "1 1503960366 4/12/2016    728             328                 \n",
       "2 1503960366 4/13/2016    776             217                 \n",
       "3 1503960366 4/14/2016   1218             181                 \n",
       "4 1503960366 4/15/2016    726             209                 \n",
       "5 1503960366 4/16/2016    773             221                 \n",
       "6 1503960366 4/17/2016    539             164                 \n",
       "  FairlyActiveMinutes VeryActiveMinutes SedentaryActiveDistance\n",
       "1 13                  25                0                      \n",
       "2 19                  21                0                      \n",
       "3 11                  30                0                      \n",
       "4 34                  29                0                      \n",
       "5 10                  36                0                      \n",
       "6 20                  38                0                      \n",
       "  LightActiveDistance ModeratelyActiveDistance VeryActiveDistance\n",
       "1 6.06                0.55                     1.88              \n",
       "2 4.71                0.69                     1.57              \n",
       "3 3.91                0.40                     2.44              \n",
       "4 2.83                1.26                     2.14              \n",
       "5 5.04                0.41                     2.71              \n",
       "6 2.51                0.78                     3.19              "
      ]
     },
     "metadata": {},
     "output_type": "display_data"
    },
    {
     "name": "stdout",
     "output_type": "stream",
     "text": [
      "Rows: 940\n",
      "Columns: 10\n",
      "$ Id                       \u001b[3m\u001b[90m<dbl>\u001b[39m\u001b[23m 1503960366, 1503960366, 1503960366, 150396036…\n",
      "$ ActivityDay              \u001b[3m\u001b[90m<chr>\u001b[39m\u001b[23m \"4/12/2016\", \"4/13/2016\", \"4/14/2016\", \"4/15/…\n",
      "$ SedentaryMinutes         \u001b[3m\u001b[90m<dbl>\u001b[39m\u001b[23m 728, 776, 1218, 726, 773, 539, 1149, 775, 818…\n",
      "$ LightlyActiveMinutes     \u001b[3m\u001b[90m<dbl>\u001b[39m\u001b[23m 328, 217, 181, 209, 221, 164, 233, 264, 205, …\n",
      "$ FairlyActiveMinutes      \u001b[3m\u001b[90m<dbl>\u001b[39m\u001b[23m 13, 19, 11, 34, 10, 20, 16, 31, 12, 8, 27, 21…\n",
      "$ VeryActiveMinutes        \u001b[3m\u001b[90m<dbl>\u001b[39m\u001b[23m 25, 21, 30, 29, 36, 38, 42, 50, 28, 19, 66, 4…\n",
      "$ SedentaryActiveDistance  \u001b[3m\u001b[90m<dbl>\u001b[39m\u001b[23m 0, 0, 0, 0, 0, 0, 0, 0, 0, 0, 0, 0, 0, 0, 0, …\n",
      "$ LightActiveDistance      \u001b[3m\u001b[90m<dbl>\u001b[39m\u001b[23m 6.06, 4.71, 3.91, 2.83, 5.04, 2.51, 4.71, 5.0…\n",
      "$ ModeratelyActiveDistance \u001b[3m\u001b[90m<dbl>\u001b[39m\u001b[23m 0.55, 0.69, 0.40, 1.26, 0.41, 0.78, 0.64, 1.3…\n",
      "$ VeryActiveDistance       \u001b[3m\u001b[90m<dbl>\u001b[39m\u001b[23m 1.88, 1.57, 2.44, 2.14, 2.71, 3.19, 3.25, 3.5…\n"
     ]
    },
    {
     "data": {
      "text/html": [
       "33"
      ],
      "text/latex": [
       "33"
      ],
      "text/markdown": [
       "33"
      ],
      "text/plain": [
       "[1] 33"
      ]
     },
     "metadata": {},
     "output_type": "display_data"
    }
   ],
   "source": [
    "#daily intensities\n",
    "\n",
    "#it will be important to know the average daily intensities to determine on which days users track their activity the most, to better market for days where participants are least active.\n",
    "\n",
    "head(daily_intensities)\n",
    "glimpse(daily_intensities)\n",
    "n_distinct(daily_intensities$Id)"
   ]
  },
  {
   "cell_type": "code",
   "execution_count": 9,
   "id": "2118a58b",
   "metadata": {
    "execution": {
     "iopub.execute_input": "2021-06-11T22:14:37.074452Z",
     "iopub.status.busy": "2021-06-11T22:14:37.072192Z",
     "iopub.status.idle": "2021-06-11T22:14:37.111903Z",
     "shell.execute_reply": "2021-06-11T22:14:37.110170Z"
    },
    "papermill": {
     "duration": 0.080121,
     "end_time": "2021-06-11T22:14:37.112030",
     "exception": false,
     "start_time": "2021-06-11T22:14:37.031909",
     "status": "completed"
    },
    "tags": []
   },
   "outputs": [
    {
     "data": {
      "text/html": [
       "<table class=\"dataframe\">\n",
       "<caption>A tibble: 6 × 3</caption>\n",
       "<thead>\n",
       "\t<tr><th scope=col>Id</th><th scope=col>ActivityDay</th><th scope=col>StepTotal</th></tr>\n",
       "\t<tr><th scope=col>&lt;dbl&gt;</th><th scope=col>&lt;chr&gt;</th><th scope=col>&lt;dbl&gt;</th></tr>\n",
       "</thead>\n",
       "<tbody>\n",
       "\t<tr><td>1503960366</td><td>4/12/2016</td><td>13162</td></tr>\n",
       "\t<tr><td>1503960366</td><td>4/13/2016</td><td>10735</td></tr>\n",
       "\t<tr><td>1503960366</td><td>4/14/2016</td><td>10460</td></tr>\n",
       "\t<tr><td>1503960366</td><td>4/15/2016</td><td> 9762</td></tr>\n",
       "\t<tr><td>1503960366</td><td>4/16/2016</td><td>12669</td></tr>\n",
       "\t<tr><td>1503960366</td><td>4/17/2016</td><td> 9705</td></tr>\n",
       "</tbody>\n",
       "</table>\n"
      ],
      "text/latex": [
       "A tibble: 6 × 3\n",
       "\\begin{tabular}{lll}\n",
       " Id & ActivityDay & StepTotal\\\\\n",
       " <dbl> & <chr> & <dbl>\\\\\n",
       "\\hline\n",
       "\t 1503960366 & 4/12/2016 & 13162\\\\\n",
       "\t 1503960366 & 4/13/2016 & 10735\\\\\n",
       "\t 1503960366 & 4/14/2016 & 10460\\\\\n",
       "\t 1503960366 & 4/15/2016 &  9762\\\\\n",
       "\t 1503960366 & 4/16/2016 & 12669\\\\\n",
       "\t 1503960366 & 4/17/2016 &  9705\\\\\n",
       "\\end{tabular}\n"
      ],
      "text/markdown": [
       "\n",
       "A tibble: 6 × 3\n",
       "\n",
       "| Id &lt;dbl&gt; | ActivityDay &lt;chr&gt; | StepTotal &lt;dbl&gt; |\n",
       "|---|---|---|\n",
       "| 1503960366 | 4/12/2016 | 13162 |\n",
       "| 1503960366 | 4/13/2016 | 10735 |\n",
       "| 1503960366 | 4/14/2016 | 10460 |\n",
       "| 1503960366 | 4/15/2016 |  9762 |\n",
       "| 1503960366 | 4/16/2016 | 12669 |\n",
       "| 1503960366 | 4/17/2016 |  9705 |\n",
       "\n"
      ],
      "text/plain": [
       "  Id         ActivityDay StepTotal\n",
       "1 1503960366 4/12/2016   13162    \n",
       "2 1503960366 4/13/2016   10735    \n",
       "3 1503960366 4/14/2016   10460    \n",
       "4 1503960366 4/15/2016    9762    \n",
       "5 1503960366 4/16/2016   12669    \n",
       "6 1503960366 4/17/2016    9705    "
      ]
     },
     "metadata": {},
     "output_type": "display_data"
    },
    {
     "name": "stdout",
     "output_type": "stream",
     "text": [
      "Rows: 940\n",
      "Columns: 3\n",
      "$ Id          \u001b[3m\u001b[90m<dbl>\u001b[39m\u001b[23m 1503960366, 1503960366, 1503960366, 1503960366, 1503960366…\n",
      "$ ActivityDay \u001b[3m\u001b[90m<chr>\u001b[39m\u001b[23m \"4/12/2016\", \"4/13/2016\", \"4/14/2016\", \"4/15/2016\", \"4/16/…\n",
      "$ StepTotal   \u001b[3m\u001b[90m<dbl>\u001b[39m\u001b[23m 13162, 10735, 10460, 9762, 12669, 9705, 13019, 15506, 1054…\n"
     ]
    },
    {
     "data": {
      "text/html": [
       "33"
      ],
      "text/latex": [
       "33"
      ],
      "text/markdown": [
       "33"
      ],
      "text/plain": [
       "[1] 33"
      ]
     },
     "metadata": {},
     "output_type": "display_data"
    }
   ],
   "source": [
    "#daily steps\n",
    "\n",
    "#it is seen to be helpful for people who are trying to lose weight to have a minimum step goal of 10k. \n",
    "\n",
    "head(daily_steps)\n",
    "glimpse(daily_steps)\n",
    "n_distinct(daily_steps$Id)"
   ]
  },
  {
   "cell_type": "code",
   "execution_count": 10,
   "id": "129da9cf",
   "metadata": {
    "execution": {
     "iopub.execute_input": "2021-06-11T22:14:37.196609Z",
     "iopub.status.busy": "2021-06-11T22:14:37.194483Z",
     "iopub.status.idle": "2021-06-11T22:14:37.260427Z",
     "shell.execute_reply": "2021-06-11T22:14:37.259153Z"
    },
    "papermill": {
     "duration": 0.109997,
     "end_time": "2021-06-11T22:14:37.260638",
     "exception": false,
     "start_time": "2021-06-11T22:14:37.150641",
     "status": "completed"
    },
    "tags": []
   },
   "outputs": [
    {
     "data": {
      "text/html": [
       "<table class=\"dataframe\">\n",
       "<caption>A tibble: 6 × 5</caption>\n",
       "<thead>\n",
       "\t<tr><th scope=col>Id</th><th scope=col>SleepDay</th><th scope=col>TotalSleepRecords</th><th scope=col>TotalMinutesAsleep</th><th scope=col>TotalTimeInBed</th></tr>\n",
       "\t<tr><th scope=col>&lt;dbl&gt;</th><th scope=col>&lt;chr&gt;</th><th scope=col>&lt;dbl&gt;</th><th scope=col>&lt;dbl&gt;</th><th scope=col>&lt;dbl&gt;</th></tr>\n",
       "</thead>\n",
       "<tbody>\n",
       "\t<tr><td>1503960366</td><td>4/12/2016 12:00:00 AM</td><td>1</td><td>327</td><td>346</td></tr>\n",
       "\t<tr><td>1503960366</td><td>4/13/2016 12:00:00 AM</td><td>2</td><td>384</td><td>407</td></tr>\n",
       "\t<tr><td>1503960366</td><td>4/15/2016 12:00:00 AM</td><td>1</td><td>412</td><td>442</td></tr>\n",
       "\t<tr><td>1503960366</td><td>4/16/2016 12:00:00 AM</td><td>2</td><td>340</td><td>367</td></tr>\n",
       "\t<tr><td>1503960366</td><td>4/17/2016 12:00:00 AM</td><td>1</td><td>700</td><td>712</td></tr>\n",
       "\t<tr><td>1503960366</td><td>4/19/2016 12:00:00 AM</td><td>1</td><td>304</td><td>320</td></tr>\n",
       "</tbody>\n",
       "</table>\n"
      ],
      "text/latex": [
       "A tibble: 6 × 5\n",
       "\\begin{tabular}{lllll}\n",
       " Id & SleepDay & TotalSleepRecords & TotalMinutesAsleep & TotalTimeInBed\\\\\n",
       " <dbl> & <chr> & <dbl> & <dbl> & <dbl>\\\\\n",
       "\\hline\n",
       "\t 1503960366 & 4/12/2016 12:00:00 AM & 1 & 327 & 346\\\\\n",
       "\t 1503960366 & 4/13/2016 12:00:00 AM & 2 & 384 & 407\\\\\n",
       "\t 1503960366 & 4/15/2016 12:00:00 AM & 1 & 412 & 442\\\\\n",
       "\t 1503960366 & 4/16/2016 12:00:00 AM & 2 & 340 & 367\\\\\n",
       "\t 1503960366 & 4/17/2016 12:00:00 AM & 1 & 700 & 712\\\\\n",
       "\t 1503960366 & 4/19/2016 12:00:00 AM & 1 & 304 & 320\\\\\n",
       "\\end{tabular}\n"
      ],
      "text/markdown": [
       "\n",
       "A tibble: 6 × 5\n",
       "\n",
       "| Id &lt;dbl&gt; | SleepDay &lt;chr&gt; | TotalSleepRecords &lt;dbl&gt; | TotalMinutesAsleep &lt;dbl&gt; | TotalTimeInBed &lt;dbl&gt; |\n",
       "|---|---|---|---|---|\n",
       "| 1503960366 | 4/12/2016 12:00:00 AM | 1 | 327 | 346 |\n",
       "| 1503960366 | 4/13/2016 12:00:00 AM | 2 | 384 | 407 |\n",
       "| 1503960366 | 4/15/2016 12:00:00 AM | 1 | 412 | 442 |\n",
       "| 1503960366 | 4/16/2016 12:00:00 AM | 2 | 340 | 367 |\n",
       "| 1503960366 | 4/17/2016 12:00:00 AM | 1 | 700 | 712 |\n",
       "| 1503960366 | 4/19/2016 12:00:00 AM | 1 | 304 | 320 |\n",
       "\n"
      ],
      "text/plain": [
       "  Id         SleepDay              TotalSleepRecords TotalMinutesAsleep\n",
       "1 1503960366 4/12/2016 12:00:00 AM 1                 327               \n",
       "2 1503960366 4/13/2016 12:00:00 AM 2                 384               \n",
       "3 1503960366 4/15/2016 12:00:00 AM 1                 412               \n",
       "4 1503960366 4/16/2016 12:00:00 AM 2                 340               \n",
       "5 1503960366 4/17/2016 12:00:00 AM 1                 700               \n",
       "6 1503960366 4/19/2016 12:00:00 AM 1                 304               \n",
       "  TotalTimeInBed\n",
       "1 346           \n",
       "2 407           \n",
       "3 442           \n",
       "4 367           \n",
       "5 712           \n",
       "6 320           "
      ]
     },
     "metadata": {},
     "output_type": "display_data"
    },
    {
     "name": "stdout",
     "output_type": "stream",
     "text": [
      "Rows: 413\n",
      "Columns: 5\n",
      "$ Id                 \u001b[3m\u001b[90m<dbl>\u001b[39m\u001b[23m 1503960366, 1503960366, 1503960366, 1503960366, 150…\n",
      "$ SleepDay           \u001b[3m\u001b[90m<chr>\u001b[39m\u001b[23m \"4/12/2016 12:00:00 AM\", \"4/13/2016 12:00:00 AM\", \"…\n",
      "$ TotalSleepRecords  \u001b[3m\u001b[90m<dbl>\u001b[39m\u001b[23m 1, 2, 1, 2, 1, 1, 1, 1, 1, 1, 1, 1, 1, 1, 1, 1, 1, …\n",
      "$ TotalMinutesAsleep \u001b[3m\u001b[90m<dbl>\u001b[39m\u001b[23m 327, 384, 412, 340, 700, 304, 360, 325, 361, 430, 2…\n",
      "$ TotalTimeInBed     \u001b[3m\u001b[90m<dbl>\u001b[39m\u001b[23m 346, 407, 442, 367, 712, 320, 377, 364, 384, 449, 3…\n"
     ]
    },
    {
     "data": {
      "text/html": [
       "24"
      ],
      "text/latex": [
       "24"
      ],
      "text/markdown": [
       "24"
      ],
      "text/plain": [
       "[1] 24"
      ]
     },
     "metadata": {},
     "output_type": "display_data"
    }
   ],
   "source": [
    "#daily_sleep\n",
    "\n",
    "#it is also recommended for people who are trying to lose weight to get a minimum of 7-9 hours of sleep per night (assuming participants are sleeping during the night)\n",
    "\n",
    "#also note that not all participants are regularly monitoring their sleep habits\n",
    "\n",
    "#data may still be useful\n",
    "\n",
    "head(daily_sleep)\n",
    "glimpse(daily_sleep)\n",
    "n_distinct(daily_sleep$Id)\n"
   ]
  },
  {
   "cell_type": "code",
   "execution_count": 11,
   "id": "fd3614f5",
   "metadata": {
    "execution": {
     "iopub.execute_input": "2021-06-11T22:14:37.440089Z",
     "iopub.status.busy": "2021-06-11T22:14:37.439028Z",
     "iopub.status.idle": "2021-06-11T22:14:37.509937Z",
     "shell.execute_reply": "2021-06-11T22:14:37.506449Z"
    },
    "papermill": {
     "duration": 0.155783,
     "end_time": "2021-06-11T22:14:37.510155",
     "exception": false,
     "start_time": "2021-06-11T22:14:37.354372",
     "status": "completed"
    },
    "tags": []
   },
   "outputs": [
    {
     "data": {
      "text/html": [
       "<table class=\"dataframe\">\n",
       "<caption>A tibble: 6 × 8</caption>\n",
       "<thead>\n",
       "\t<tr><th scope=col>Id</th><th scope=col>Date</th><th scope=col>WeightKg</th><th scope=col>WeightPounds</th><th scope=col>Fat</th><th scope=col>BMI</th><th scope=col>IsManualReport</th><th scope=col>LogId</th></tr>\n",
       "\t<tr><th scope=col>&lt;dbl&gt;</th><th scope=col>&lt;chr&gt;</th><th scope=col>&lt;dbl&gt;</th><th scope=col>&lt;dbl&gt;</th><th scope=col>&lt;dbl&gt;</th><th scope=col>&lt;dbl&gt;</th><th scope=col>&lt;lgl&gt;</th><th scope=col>&lt;dbl&gt;</th></tr>\n",
       "</thead>\n",
       "<tbody>\n",
       "\t<tr><td>1503960366</td><td>5/2/2016 11:59:59 PM </td><td> 52.6</td><td>115.9631</td><td>22</td><td>22.65</td><td> TRUE</td><td>1.462234e+12</td></tr>\n",
       "\t<tr><td>1503960366</td><td>5/3/2016 11:59:59 PM </td><td> 52.6</td><td>115.9631</td><td>NA</td><td>22.65</td><td> TRUE</td><td>1.462320e+12</td></tr>\n",
       "\t<tr><td>1927972279</td><td>4/13/2016 1:08:52 AM </td><td>133.5</td><td>294.3171</td><td>NA</td><td>47.54</td><td>FALSE</td><td>1.460510e+12</td></tr>\n",
       "\t<tr><td>2873212765</td><td>4/21/2016 11:59:59 PM</td><td> 56.7</td><td>125.0021</td><td>NA</td><td>21.45</td><td> TRUE</td><td>1.461283e+12</td></tr>\n",
       "\t<tr><td>2873212765</td><td>5/12/2016 11:59:59 PM</td><td> 57.3</td><td>126.3249</td><td>NA</td><td>21.69</td><td> TRUE</td><td>1.463098e+12</td></tr>\n",
       "\t<tr><td>4319703577</td><td>4/17/2016 11:59:59 PM</td><td> 72.4</td><td>159.6147</td><td>25</td><td>27.45</td><td> TRUE</td><td>1.460938e+12</td></tr>\n",
       "</tbody>\n",
       "</table>\n"
      ],
      "text/latex": [
       "A tibble: 6 × 8\n",
       "\\begin{tabular}{llllllll}\n",
       " Id & Date & WeightKg & WeightPounds & Fat & BMI & IsManualReport & LogId\\\\\n",
       " <dbl> & <chr> & <dbl> & <dbl> & <dbl> & <dbl> & <lgl> & <dbl>\\\\\n",
       "\\hline\n",
       "\t 1503960366 & 5/2/2016 11:59:59 PM  &  52.6 & 115.9631 & 22 & 22.65 &  TRUE & 1.462234e+12\\\\\n",
       "\t 1503960366 & 5/3/2016 11:59:59 PM  &  52.6 & 115.9631 & NA & 22.65 &  TRUE & 1.462320e+12\\\\\n",
       "\t 1927972279 & 4/13/2016 1:08:52 AM  & 133.5 & 294.3171 & NA & 47.54 & FALSE & 1.460510e+12\\\\\n",
       "\t 2873212765 & 4/21/2016 11:59:59 PM &  56.7 & 125.0021 & NA & 21.45 &  TRUE & 1.461283e+12\\\\\n",
       "\t 2873212765 & 5/12/2016 11:59:59 PM &  57.3 & 126.3249 & NA & 21.69 &  TRUE & 1.463098e+12\\\\\n",
       "\t 4319703577 & 4/17/2016 11:59:59 PM &  72.4 & 159.6147 & 25 & 27.45 &  TRUE & 1.460938e+12\\\\\n",
       "\\end{tabular}\n"
      ],
      "text/markdown": [
       "\n",
       "A tibble: 6 × 8\n",
       "\n",
       "| Id &lt;dbl&gt; | Date &lt;chr&gt; | WeightKg &lt;dbl&gt; | WeightPounds &lt;dbl&gt; | Fat &lt;dbl&gt; | BMI &lt;dbl&gt; | IsManualReport &lt;lgl&gt; | LogId &lt;dbl&gt; |\n",
       "|---|---|---|---|---|---|---|---|\n",
       "| 1503960366 | 5/2/2016 11:59:59 PM  |  52.6 | 115.9631 | 22 | 22.65 |  TRUE | 1.462234e+12 |\n",
       "| 1503960366 | 5/3/2016 11:59:59 PM  |  52.6 | 115.9631 | NA | 22.65 |  TRUE | 1.462320e+12 |\n",
       "| 1927972279 | 4/13/2016 1:08:52 AM  | 133.5 | 294.3171 | NA | 47.54 | FALSE | 1.460510e+12 |\n",
       "| 2873212765 | 4/21/2016 11:59:59 PM |  56.7 | 125.0021 | NA | 21.45 |  TRUE | 1.461283e+12 |\n",
       "| 2873212765 | 5/12/2016 11:59:59 PM |  57.3 | 126.3249 | NA | 21.69 |  TRUE | 1.463098e+12 |\n",
       "| 4319703577 | 4/17/2016 11:59:59 PM |  72.4 | 159.6147 | 25 | 27.45 |  TRUE | 1.460938e+12 |\n",
       "\n"
      ],
      "text/plain": [
       "  Id         Date                  WeightKg WeightPounds Fat BMI  \n",
       "1 1503960366 5/2/2016 11:59:59 PM   52.6    115.9631     22  22.65\n",
       "2 1503960366 5/3/2016 11:59:59 PM   52.6    115.9631     NA  22.65\n",
       "3 1927972279 4/13/2016 1:08:52 AM  133.5    294.3171     NA  47.54\n",
       "4 2873212765 4/21/2016 11:59:59 PM  56.7    125.0021     NA  21.45\n",
       "5 2873212765 5/12/2016 11:59:59 PM  57.3    126.3249     NA  21.69\n",
       "6 4319703577 4/17/2016 11:59:59 PM  72.4    159.6147     25  27.45\n",
       "  IsManualReport LogId       \n",
       "1  TRUE          1.462234e+12\n",
       "2  TRUE          1.462320e+12\n",
       "3 FALSE          1.460510e+12\n",
       "4  TRUE          1.461283e+12\n",
       "5  TRUE          1.463098e+12\n",
       "6  TRUE          1.460938e+12"
      ]
     },
     "metadata": {},
     "output_type": "display_data"
    },
    {
     "name": "stdout",
     "output_type": "stream",
     "text": [
      "Rows: 67\n",
      "Columns: 8\n",
      "$ Id             \u001b[3m\u001b[90m<dbl>\u001b[39m\u001b[23m 1503960366, 1503960366, 1927972279, 2873212765, 2873212…\n",
      "$ Date           \u001b[3m\u001b[90m<chr>\u001b[39m\u001b[23m \"5/2/2016 11:59:59 PM\", \"5/3/2016 11:59:59 PM\", \"4/13/2…\n",
      "$ WeightKg       \u001b[3m\u001b[90m<dbl>\u001b[39m\u001b[23m 52.6, 52.6, 133.5, 56.7, 57.3, 72.4, 72.3, 69.7, 70.3, …\n",
      "$ WeightPounds   \u001b[3m\u001b[90m<dbl>\u001b[39m\u001b[23m 115.9631, 115.9631, 294.3171, 125.0021, 126.3249, 159.6…\n",
      "$ Fat            \u001b[3m\u001b[90m<dbl>\u001b[39m\u001b[23m 22, NA, NA, NA, NA, 25, NA, NA, NA, NA, NA, NA, NA, NA,…\n",
      "$ BMI            \u001b[3m\u001b[90m<dbl>\u001b[39m\u001b[23m 22.65, 22.65, 47.54, 21.45, 21.69, 27.45, 27.38, 27.25,…\n",
      "$ IsManualReport \u001b[3m\u001b[90m<lgl>\u001b[39m\u001b[23m TRUE, TRUE, FALSE, TRUE, TRUE, TRUE, TRUE, TRUE, TRUE, …\n",
      "$ LogId          \u001b[3m\u001b[90m<dbl>\u001b[39m\u001b[23m 1.462234e+12, 1.462320e+12, 1.460510e+12, 1.461283e+12,…\n"
     ]
    },
    {
     "data": {
      "text/html": [
       "8"
      ],
      "text/latex": [
       "8"
      ],
      "text/markdown": [
       "8"
      ],
      "text/plain": [
       "[1] 8"
      ]
     },
     "metadata": {},
     "output_type": "display_data"
    }
   ],
   "source": [
    "#weight log\n",
    "\n",
    "#with only 8 distinct weight log records, it appears that either participants do not want their weight to be recorded, or it may be too tedious to self-enter weight daily.\n",
    "\n",
    "#will look into this later\n",
    "\n",
    "head(weight_log)\n",
    "glimpse(weight_log)\n",
    "n_distinct(weight_log$Id)\n"
   ]
  },
  {
   "cell_type": "markdown",
   "id": "99d2a019",
   "metadata": {
    "papermill": {
     "duration": 0.072154,
     "end_time": "2021-06-11T22:14:37.654974",
     "exception": false,
     "start_time": "2021-06-11T22:14:37.582820",
     "status": "completed"
    },
    "tags": []
   },
   "source": [
    "## Step Three: **Process**"
   ]
  },
  {
   "cell_type": "markdown",
   "id": "2b84c632",
   "metadata": {
    "papermill": {
     "duration": 0.074287,
     "end_time": "2021-06-11T22:14:37.800940",
     "exception": false,
     "start_time": "2021-06-11T22:14:37.726653",
     "status": "completed"
    },
    "tags": []
   },
   "source": [
    "#### For this step we will clean the data and combine datasets that seem to have any interesting correlations reagarding individual participant fitness goals."
   ]
  },
  {
   "cell_type": "code",
   "execution_count": 12,
   "id": "43a5779e",
   "metadata": {
    "execution": {
     "iopub.execute_input": "2021-06-11T22:14:37.933448Z",
     "iopub.status.busy": "2021-06-11T22:14:37.925451Z",
     "iopub.status.idle": "2021-06-11T22:14:38.031587Z",
     "shell.execute_reply": "2021-06-11T22:14:38.029753Z"
    },
    "papermill": {
     "duration": 0.159112,
     "end_time": "2021-06-11T22:14:38.031760",
     "exception": false,
     "start_time": "2021-06-11T22:14:37.872648",
     "status": "completed"
    },
    "tags": []
   },
   "outputs": [
    {
     "data": {
      "text/html": [
       "<table class=\"dataframe\">\n",
       "<caption>A tibble: 6 × 2</caption>\n",
       "<thead>\n",
       "\t<tr><th scope=col>Id</th><th scope=col>average_calories</th></tr>\n",
       "\t<tr><th scope=col>&lt;dbl&gt;</th><th scope=col>&lt;dbl&gt;</th></tr>\n",
       "</thead>\n",
       "<tbody>\n",
       "\t<tr><td>1503960366</td><td>1816.419</td></tr>\n",
       "\t<tr><td>1624580081</td><td>1483.355</td></tr>\n",
       "\t<tr><td>1644430081</td><td>2811.300</td></tr>\n",
       "\t<tr><td>1844505072</td><td>1573.484</td></tr>\n",
       "\t<tr><td>1927972279</td><td>2172.806</td></tr>\n",
       "\t<tr><td>2022484408</td><td>2509.968</td></tr>\n",
       "</tbody>\n",
       "</table>\n"
      ],
      "text/latex": [
       "A tibble: 6 × 2\n",
       "\\begin{tabular}{ll}\n",
       " Id & average\\_calories\\\\\n",
       " <dbl> & <dbl>\\\\\n",
       "\\hline\n",
       "\t 1503960366 & 1816.419\\\\\n",
       "\t 1624580081 & 1483.355\\\\\n",
       "\t 1644430081 & 2811.300\\\\\n",
       "\t 1844505072 & 1573.484\\\\\n",
       "\t 1927972279 & 2172.806\\\\\n",
       "\t 2022484408 & 2509.968\\\\\n",
       "\\end{tabular}\n"
      ],
      "text/markdown": [
       "\n",
       "A tibble: 6 × 2\n",
       "\n",
       "| Id &lt;dbl&gt; | average_calories &lt;dbl&gt; |\n",
       "|---|---|\n",
       "| 1503960366 | 1816.419 |\n",
       "| 1624580081 | 1483.355 |\n",
       "| 1644430081 | 2811.300 |\n",
       "| 1844505072 | 1573.484 |\n",
       "| 1927972279 | 2172.806 |\n",
       "| 2022484408 | 2509.968 |\n",
       "\n"
      ],
      "text/plain": [
       "  Id         average_calories\n",
       "1 1503960366 1816.419        \n",
       "2 1624580081 1483.355        \n",
       "3 1644430081 2811.300        \n",
       "4 1844505072 1573.484        \n",
       "5 1927972279 2172.806        \n",
       "6 2022484408 2509.968        "
      ]
     },
     "metadata": {},
     "output_type": "display_data"
    },
    {
     "data": {
      "text/html": [
       "<table class=\"dataframe\">\n",
       "<caption>A tibble: 6 × 2</caption>\n",
       "<thead>\n",
       "\t<tr><th scope=col>Id</th><th scope=col>average_steps</th></tr>\n",
       "\t<tr><th scope=col>&lt;dbl&gt;</th><th scope=col>&lt;dbl&gt;</th></tr>\n",
       "</thead>\n",
       "<tbody>\n",
       "\t<tr><td>1503960366</td><td>12116.742</td></tr>\n",
       "\t<tr><td>1624580081</td><td> 5743.903</td></tr>\n",
       "\t<tr><td>1644430081</td><td> 7282.967</td></tr>\n",
       "\t<tr><td>1844505072</td><td> 2580.065</td></tr>\n",
       "\t<tr><td>1927972279</td><td>  916.129</td></tr>\n",
       "\t<tr><td>2022484408</td><td>11370.645</td></tr>\n",
       "</tbody>\n",
       "</table>\n"
      ],
      "text/latex": [
       "A tibble: 6 × 2\n",
       "\\begin{tabular}{ll}\n",
       " Id & average\\_steps\\\\\n",
       " <dbl> & <dbl>\\\\\n",
       "\\hline\n",
       "\t 1503960366 & 12116.742\\\\\n",
       "\t 1624580081 &  5743.903\\\\\n",
       "\t 1644430081 &  7282.967\\\\\n",
       "\t 1844505072 &  2580.065\\\\\n",
       "\t 1927972279 &   916.129\\\\\n",
       "\t 2022484408 & 11370.645\\\\\n",
       "\\end{tabular}\n"
      ],
      "text/markdown": [
       "\n",
       "A tibble: 6 × 2\n",
       "\n",
       "| Id &lt;dbl&gt; | average_steps &lt;dbl&gt; |\n",
       "|---|---|\n",
       "| 1503960366 | 12116.742 |\n",
       "| 1624580081 |  5743.903 |\n",
       "| 1644430081 |  7282.967 |\n",
       "| 1844505072 |  2580.065 |\n",
       "| 1927972279 |   916.129 |\n",
       "| 2022484408 | 11370.645 |\n",
       "\n"
      ],
      "text/plain": [
       "  Id         average_steps\n",
       "1 1503960366 12116.742    \n",
       "2 1624580081  5743.903    \n",
       "3 1644430081  7282.967    \n",
       "4 1844505072  2580.065    \n",
       "5 1927972279   916.129    \n",
       "6 2022484408 11370.645    "
      ]
     },
     "metadata": {},
     "output_type": "display_data"
    },
    {
     "data": {
      "text/html": [
       "<table class=\"dataframe\">\n",
       "<caption>A grouped_df: 6 × 3</caption>\n",
       "<thead>\n",
       "\t<tr><th scope=col>Id</th><th scope=col>average_calories</th><th scope=col>average_steps</th></tr>\n",
       "\t<tr><th scope=col>&lt;dbl&gt;</th><th scope=col>&lt;dbl&gt;</th><th scope=col>&lt;dbl&gt;</th></tr>\n",
       "</thead>\n",
       "<tbody>\n",
       "\t<tr><td>1503960366</td><td>1816.42</td><td>12116.74</td></tr>\n",
       "\t<tr><td>1624580081</td><td>1483.35</td><td> 5743.90</td></tr>\n",
       "\t<tr><td>1644430081</td><td>2811.30</td><td> 7282.97</td></tr>\n",
       "\t<tr><td>1844505072</td><td>1573.48</td><td> 2580.06</td></tr>\n",
       "\t<tr><td>1927972279</td><td>2172.81</td><td>  916.13</td></tr>\n",
       "\t<tr><td>2022484408</td><td>2509.97</td><td>11370.65</td></tr>\n",
       "</tbody>\n",
       "</table>\n"
      ],
      "text/latex": [
       "A grouped\\_df: 6 × 3\n",
       "\\begin{tabular}{lll}\n",
       " Id & average\\_calories & average\\_steps\\\\\n",
       " <dbl> & <dbl> & <dbl>\\\\\n",
       "\\hline\n",
       "\t 1503960366 & 1816.42 & 12116.74\\\\\n",
       "\t 1624580081 & 1483.35 &  5743.90\\\\\n",
       "\t 1644430081 & 2811.30 &  7282.97\\\\\n",
       "\t 1844505072 & 1573.48 &  2580.06\\\\\n",
       "\t 1927972279 & 2172.81 &   916.13\\\\\n",
       "\t 2022484408 & 2509.97 & 11370.65\\\\\n",
       "\\end{tabular}\n"
      ],
      "text/markdown": [
       "\n",
       "A grouped_df: 6 × 3\n",
       "\n",
       "| Id &lt;dbl&gt; | average_calories &lt;dbl&gt; | average_steps &lt;dbl&gt; |\n",
       "|---|---|---|\n",
       "| 1503960366 | 1816.42 | 12116.74 |\n",
       "| 1624580081 | 1483.35 |  5743.90 |\n",
       "| 1644430081 | 2811.30 |  7282.97 |\n",
       "| 1844505072 | 1573.48 |  2580.06 |\n",
       "| 1927972279 | 2172.81 |   916.13 |\n",
       "| 2022484408 | 2509.97 | 11370.65 |\n",
       "\n"
      ],
      "text/plain": [
       "  Id         average_calories average_steps\n",
       "1 1503960366 1816.42          12116.74     \n",
       "2 1624580081 1483.35           5743.90     \n",
       "3 1644430081 2811.30           7282.97     \n",
       "4 1844505072 1573.48           2580.06     \n",
       "5 1927972279 2172.81            916.13     \n",
       "6 2022484408 2509.97          11370.65     "
      ]
     },
     "metadata": {},
     "output_type": "display_data"
    }
   ],
   "source": [
    "#comparing daily calories burned to daily steps\n",
    "\n",
    "#summarize daily calories\n",
    "\n",
    "daily_calories_summary <- daily_calories %>%\n",
    "    group_by(Id)  %>%\n",
    "    summarize(average_calories = mean(Calories))\n",
    "\n",
    "head(daily_calories_summary)\n",
    "\n",
    "#summarize daily steps\n",
    "\n",
    "daily_steps_summary <- daily_steps %>%\n",
    "    group_by(Id)  %>%\n",
    "    summarize(average_steps = mean(StepTotal))\n",
    "\n",
    "head(daily_steps_summary)\n",
    "\n",
    "#combine tables to make calories and steps\n",
    "\n",
    "calories_steps <- full_join(daily_calories_summary, daily_steps_summary, by = \"Id\")\n",
    "\n",
    "calories_steps <- calories_steps %>%\n",
    "   group_by(Id)  %>%\n",
    "   mutate(average_calories = round(average_calories,2), average_steps = round(average_steps,2))\n",
    "head(calories_steps)"
   ]
  },
  {
   "cell_type": "code",
   "execution_count": 13,
   "id": "b2316bc9",
   "metadata": {
    "execution": {
     "iopub.execute_input": "2021-06-11T22:14:38.127191Z",
     "iopub.status.busy": "2021-06-11T22:14:38.125123Z",
     "iopub.status.idle": "2021-06-11T22:14:38.196439Z",
     "shell.execute_reply": "2021-06-11T22:14:38.187510Z"
    },
    "papermill": {
     "duration": 0.119514,
     "end_time": "2021-06-11T22:14:38.196578",
     "exception": false,
     "start_time": "2021-06-11T22:14:38.077064",
     "status": "completed"
    },
    "tags": []
   },
   "outputs": [
    {
     "data": {
      "text/html": [
       "<table class=\"dataframe\">\n",
       "<caption>A tibble: 6 × 2</caption>\n",
       "<thead>\n",
       "\t<tr><th scope=col>Id</th><th scope=col>average_sleep</th></tr>\n",
       "\t<tr><th scope=col>&lt;dbl&gt;</th><th scope=col>&lt;dbl&gt;</th></tr>\n",
       "</thead>\n",
       "<tbody>\n",
       "\t<tr><td>1503960366</td><td> 6.004667</td></tr>\n",
       "\t<tr><td>1644430081</td><td> 4.900000</td></tr>\n",
       "\t<tr><td>1844505072</td><td>10.866667</td></tr>\n",
       "\t<tr><td>1927972279</td><td> 6.950000</td></tr>\n",
       "\t<tr><td>2026352035</td><td> 8.436310</td></tr>\n",
       "\t<tr><td>2320127002</td><td> 1.016667</td></tr>\n",
       "</tbody>\n",
       "</table>\n"
      ],
      "text/latex": [
       "A tibble: 6 × 2\n",
       "\\begin{tabular}{ll}\n",
       " Id & average\\_sleep\\\\\n",
       " <dbl> & <dbl>\\\\\n",
       "\\hline\n",
       "\t 1503960366 &  6.004667\\\\\n",
       "\t 1644430081 &  4.900000\\\\\n",
       "\t 1844505072 & 10.866667\\\\\n",
       "\t 1927972279 &  6.950000\\\\\n",
       "\t 2026352035 &  8.436310\\\\\n",
       "\t 2320127002 &  1.016667\\\\\n",
       "\\end{tabular}\n"
      ],
      "text/markdown": [
       "\n",
       "A tibble: 6 × 2\n",
       "\n",
       "| Id &lt;dbl&gt; | average_sleep &lt;dbl&gt; |\n",
       "|---|---|\n",
       "| 1503960366 |  6.004667 |\n",
       "| 1644430081 |  4.900000 |\n",
       "| 1844505072 | 10.866667 |\n",
       "| 1927972279 |  6.950000 |\n",
       "| 2026352035 |  8.436310 |\n",
       "| 2320127002 |  1.016667 |\n",
       "\n"
      ],
      "text/plain": [
       "  Id         average_sleep\n",
       "1 1503960366  6.004667    \n",
       "2 1644430081  4.900000    \n",
       "3 1844505072 10.866667    \n",
       "4 1927972279  6.950000    \n",
       "5 2026352035  8.436310    \n",
       "6 2320127002  1.016667    "
      ]
     },
     "metadata": {},
     "output_type": "display_data"
    },
    {
     "data": {
      "text/html": [
       "<table class=\"dataframe\">\n",
       "<caption>A grouped_df: 6 × 3</caption>\n",
       "<thead>\n",
       "\t<tr><th scope=col>Id</th><th scope=col>average_calories</th><th scope=col>average_sleep</th></tr>\n",
       "\t<tr><th scope=col>&lt;dbl&gt;</th><th scope=col>&lt;dbl&gt;</th><th scope=col>&lt;dbl&gt;</th></tr>\n",
       "</thead>\n",
       "<tbody>\n",
       "\t<tr><td>1503960366</td><td>1816.42</td><td> 6.00</td></tr>\n",
       "\t<tr><td>1644430081</td><td>2811.30</td><td> 4.90</td></tr>\n",
       "\t<tr><td>1844505072</td><td>1573.48</td><td>10.87</td></tr>\n",
       "\t<tr><td>1927972279</td><td>2172.81</td><td> 6.95</td></tr>\n",
       "\t<tr><td>2026352035</td><td>1540.65</td><td> 8.44</td></tr>\n",
       "\t<tr><td>2320127002</td><td>1724.16</td><td> 1.02</td></tr>\n",
       "</tbody>\n",
       "</table>\n"
      ],
      "text/latex": [
       "A grouped\\_df: 6 × 3\n",
       "\\begin{tabular}{lll}\n",
       " Id & average\\_calories & average\\_sleep\\\\\n",
       " <dbl> & <dbl> & <dbl>\\\\\n",
       "\\hline\n",
       "\t 1503960366 & 1816.42 &  6.00\\\\\n",
       "\t 1644430081 & 2811.30 &  4.90\\\\\n",
       "\t 1844505072 & 1573.48 & 10.87\\\\\n",
       "\t 1927972279 & 2172.81 &  6.95\\\\\n",
       "\t 2026352035 & 1540.65 &  8.44\\\\\n",
       "\t 2320127002 & 1724.16 &  1.02\\\\\n",
       "\\end{tabular}\n"
      ],
      "text/markdown": [
       "\n",
       "A grouped_df: 6 × 3\n",
       "\n",
       "| Id &lt;dbl&gt; | average_calories &lt;dbl&gt; | average_sleep &lt;dbl&gt; |\n",
       "|---|---|---|\n",
       "| 1503960366 | 1816.42 |  6.00 |\n",
       "| 1644430081 | 2811.30 |  4.90 |\n",
       "| 1844505072 | 1573.48 | 10.87 |\n",
       "| 1927972279 | 2172.81 |  6.95 |\n",
       "| 2026352035 | 1540.65 |  8.44 |\n",
       "| 2320127002 | 1724.16 |  1.02 |\n",
       "\n"
      ],
      "text/plain": [
       "  Id         average_calories average_sleep\n",
       "1 1503960366 1816.42           6.00        \n",
       "2 1644430081 2811.30           4.90        \n",
       "3 1844505072 1573.48          10.87        \n",
       "4 1927972279 2172.81           6.95        \n",
       "5 2026352035 1540.65           8.44        \n",
       "6 2320127002 1724.16           1.02        "
      ]
     },
     "metadata": {},
     "output_type": "display_data"
    }
   ],
   "source": [
    "#comparing average calories burned to average sleep per day(night)\n",
    "\n",
    "#since we already created a dataframe for average calories burned we will do the same process for average sleep and combine the two.\n",
    "\n",
    "daily_sleep_summary <- daily_sleep %>%\n",
    "    group_by(Id) %>%\n",
    "    summarize(average_sleep = mean(TotalMinutesAsleep/60))\n",
    "\n",
    "head(daily_sleep_summary)\n",
    "\n",
    "calories_sleep <-  full_join(daily_calories_summary, daily_sleep_summary, by = \"Id\")\n",
    "\n",
    "calories_sleep <- na.omit(calories_sleep)\n",
    "\n",
    "#get rid of na values\n",
    "\n",
    "#clean up decimal places\n",
    "\n",
    "calories_sleep <- calories_sleep %>%\n",
    "   group_by(Id)  %>%\n",
    "   mutate(average_calories = round(average_calories,2), average_sleep = round(average_sleep,2))\n",
    "\n",
    "head(calories_sleep)\n"
   ]
  },
  {
   "cell_type": "code",
   "execution_count": 14,
   "id": "6683ca1a",
   "metadata": {
    "execution": {
     "iopub.execute_input": "2021-06-11T22:14:38.297414Z",
     "iopub.status.busy": "2021-06-11T22:14:38.295253Z",
     "iopub.status.idle": "2021-06-11T22:14:38.355925Z",
     "shell.execute_reply": "2021-06-11T22:14:38.354157Z"
    },
    "papermill": {
     "duration": 0.112218,
     "end_time": "2021-06-11T22:14:38.356069",
     "exception": false,
     "start_time": "2021-06-11T22:14:38.243851",
     "status": "completed"
    },
    "tags": []
   },
   "outputs": [
    {
     "data": {
      "text/html": [
       "<table class=\"dataframe\">\n",
       "<caption>A tibble: 6 × 5</caption>\n",
       "<thead>\n",
       "\t<tr><th scope=col>Id</th><th scope=col>average_VeryActiveMinutes</th><th scope=col>average_FairlyActiveMinutes</th><th scope=col>average_LightlyActiveMinutes</th><th scope=col>average_SedentaryMinutes</th></tr>\n",
       "\t<tr><th scope=col>&lt;dbl&gt;</th><th scope=col>&lt;dbl&gt;</th><th scope=col>&lt;dbl&gt;</th><th scope=col>&lt;dbl&gt;</th><th scope=col>&lt;dbl&gt;</th></tr>\n",
       "</thead>\n",
       "<tbody>\n",
       "\t<tr><td>1503960366</td><td>38.71</td><td>19.16</td><td>219.94</td><td> 848.16</td></tr>\n",
       "\t<tr><td>1624580081</td><td> 8.68</td><td> 5.81</td><td>153.48</td><td>1257.74</td></tr>\n",
       "\t<tr><td>1644430081</td><td> 9.57</td><td>21.37</td><td>178.47</td><td>1161.87</td></tr>\n",
       "\t<tr><td>1844505072</td><td> 0.13</td><td> 1.29</td><td>115.45</td><td>1206.61</td></tr>\n",
       "\t<tr><td>1927972279</td><td> 1.32</td><td> 0.77</td><td> 38.58</td><td>1317.42</td></tr>\n",
       "\t<tr><td>2022484408</td><td>36.29</td><td>19.35</td><td>257.45</td><td>1112.58</td></tr>\n",
       "</tbody>\n",
       "</table>\n"
      ],
      "text/latex": [
       "A tibble: 6 × 5\n",
       "\\begin{tabular}{lllll}\n",
       " Id & average\\_VeryActiveMinutes & average\\_FairlyActiveMinutes & average\\_LightlyActiveMinutes & average\\_SedentaryMinutes\\\\\n",
       " <dbl> & <dbl> & <dbl> & <dbl> & <dbl>\\\\\n",
       "\\hline\n",
       "\t 1503960366 & 38.71 & 19.16 & 219.94 &  848.16\\\\\n",
       "\t 1624580081 &  8.68 &  5.81 & 153.48 & 1257.74\\\\\n",
       "\t 1644430081 &  9.57 & 21.37 & 178.47 & 1161.87\\\\\n",
       "\t 1844505072 &  0.13 &  1.29 & 115.45 & 1206.61\\\\\n",
       "\t 1927972279 &  1.32 &  0.77 &  38.58 & 1317.42\\\\\n",
       "\t 2022484408 & 36.29 & 19.35 & 257.45 & 1112.58\\\\\n",
       "\\end{tabular}\n"
      ],
      "text/markdown": [
       "\n",
       "A tibble: 6 × 5\n",
       "\n",
       "| Id &lt;dbl&gt; | average_VeryActiveMinutes &lt;dbl&gt; | average_FairlyActiveMinutes &lt;dbl&gt; | average_LightlyActiveMinutes &lt;dbl&gt; | average_SedentaryMinutes &lt;dbl&gt; |\n",
       "|---|---|---|---|---|\n",
       "| 1503960366 | 38.71 | 19.16 | 219.94 |  848.16 |\n",
       "| 1624580081 |  8.68 |  5.81 | 153.48 | 1257.74 |\n",
       "| 1644430081 |  9.57 | 21.37 | 178.47 | 1161.87 |\n",
       "| 1844505072 |  0.13 |  1.29 | 115.45 | 1206.61 |\n",
       "| 1927972279 |  1.32 |  0.77 |  38.58 | 1317.42 |\n",
       "| 2022484408 | 36.29 | 19.35 | 257.45 | 1112.58 |\n",
       "\n"
      ],
      "text/plain": [
       "  Id         average_VeryActiveMinutes average_FairlyActiveMinutes\n",
       "1 1503960366 38.71                     19.16                      \n",
       "2 1624580081  8.68                      5.81                      \n",
       "3 1644430081  9.57                     21.37                      \n",
       "4 1844505072  0.13                      1.29                      \n",
       "5 1927972279  1.32                      0.77                      \n",
       "6 2022484408 36.29                     19.35                      \n",
       "  average_LightlyActiveMinutes average_SedentaryMinutes\n",
       "1 219.94                        848.16                 \n",
       "2 153.48                       1257.74                 \n",
       "3 178.47                       1161.87                 \n",
       "4 115.45                       1206.61                 \n",
       "5  38.58                       1317.42                 \n",
       "6 257.45                       1112.58                 "
      ]
     },
     "metadata": {},
     "output_type": "display_data"
    },
    {
     "data": {
      "text/html": [
       "<table class=\"dataframe\">\n",
       "<caption>A tibble: 6 × 6</caption>\n",
       "<thead>\n",
       "\t<tr><th scope=col>Id</th><th scope=col>average_calories</th><th scope=col>average_VeryActiveMinutes</th><th scope=col>average_FairlyActiveMinutes</th><th scope=col>average_LightlyActiveMinutes</th><th scope=col>average_SedentaryMinutes</th></tr>\n",
       "\t<tr><th scope=col>&lt;dbl&gt;</th><th scope=col>&lt;dbl&gt;</th><th scope=col>&lt;dbl&gt;</th><th scope=col>&lt;dbl&gt;</th><th scope=col>&lt;dbl&gt;</th><th scope=col>&lt;dbl&gt;</th></tr>\n",
       "</thead>\n",
       "<tbody>\n",
       "\t<tr><td>1503960366</td><td>1816.419</td><td>38.71</td><td>19.16</td><td>219.94</td><td> 848.16</td></tr>\n",
       "\t<tr><td>1624580081</td><td>1483.355</td><td> 8.68</td><td> 5.81</td><td>153.48</td><td>1257.74</td></tr>\n",
       "\t<tr><td>1644430081</td><td>2811.300</td><td> 9.57</td><td>21.37</td><td>178.47</td><td>1161.87</td></tr>\n",
       "\t<tr><td>1844505072</td><td>1573.484</td><td> 0.13</td><td> 1.29</td><td>115.45</td><td>1206.61</td></tr>\n",
       "\t<tr><td>1927972279</td><td>2172.806</td><td> 1.32</td><td> 0.77</td><td> 38.58</td><td>1317.42</td></tr>\n",
       "\t<tr><td>2022484408</td><td>2509.968</td><td>36.29</td><td>19.35</td><td>257.45</td><td>1112.58</td></tr>\n",
       "</tbody>\n",
       "</table>\n"
      ],
      "text/latex": [
       "A tibble: 6 × 6\n",
       "\\begin{tabular}{llllll}\n",
       " Id & average\\_calories & average\\_VeryActiveMinutes & average\\_FairlyActiveMinutes & average\\_LightlyActiveMinutes & average\\_SedentaryMinutes\\\\\n",
       " <dbl> & <dbl> & <dbl> & <dbl> & <dbl> & <dbl>\\\\\n",
       "\\hline\n",
       "\t 1503960366 & 1816.419 & 38.71 & 19.16 & 219.94 &  848.16\\\\\n",
       "\t 1624580081 & 1483.355 &  8.68 &  5.81 & 153.48 & 1257.74\\\\\n",
       "\t 1644430081 & 2811.300 &  9.57 & 21.37 & 178.47 & 1161.87\\\\\n",
       "\t 1844505072 & 1573.484 &  0.13 &  1.29 & 115.45 & 1206.61\\\\\n",
       "\t 1927972279 & 2172.806 &  1.32 &  0.77 &  38.58 & 1317.42\\\\\n",
       "\t 2022484408 & 2509.968 & 36.29 & 19.35 & 257.45 & 1112.58\\\\\n",
       "\\end{tabular}\n"
      ],
      "text/markdown": [
       "\n",
       "A tibble: 6 × 6\n",
       "\n",
       "| Id &lt;dbl&gt; | average_calories &lt;dbl&gt; | average_VeryActiveMinutes &lt;dbl&gt; | average_FairlyActiveMinutes &lt;dbl&gt; | average_LightlyActiveMinutes &lt;dbl&gt; | average_SedentaryMinutes &lt;dbl&gt; |\n",
       "|---|---|---|---|---|---|\n",
       "| 1503960366 | 1816.419 | 38.71 | 19.16 | 219.94 |  848.16 |\n",
       "| 1624580081 | 1483.355 |  8.68 |  5.81 | 153.48 | 1257.74 |\n",
       "| 1644430081 | 2811.300 |  9.57 | 21.37 | 178.47 | 1161.87 |\n",
       "| 1844505072 | 1573.484 |  0.13 |  1.29 | 115.45 | 1206.61 |\n",
       "| 1927972279 | 2172.806 |  1.32 |  0.77 |  38.58 | 1317.42 |\n",
       "| 2022484408 | 2509.968 | 36.29 | 19.35 | 257.45 | 1112.58 |\n",
       "\n"
      ],
      "text/plain": [
       "  Id         average_calories average_VeryActiveMinutes\n",
       "1 1503960366 1816.419         38.71                    \n",
       "2 1624580081 1483.355          8.68                    \n",
       "3 1644430081 2811.300          9.57                    \n",
       "4 1844505072 1573.484          0.13                    \n",
       "5 1927972279 2172.806          1.32                    \n",
       "6 2022484408 2509.968         36.29                    \n",
       "  average_FairlyActiveMinutes average_LightlyActiveMinutes\n",
       "1 19.16                       219.94                      \n",
       "2  5.81                       153.48                      \n",
       "3 21.37                       178.47                      \n",
       "4  1.29                       115.45                      \n",
       "5  0.77                        38.58                      \n",
       "6 19.35                       257.45                      \n",
       "  average_SedentaryMinutes\n",
       "1  848.16                 \n",
       "2 1257.74                 \n",
       "3 1161.87                 \n",
       "4 1206.61                 \n",
       "5 1317.42                 \n",
       "6 1112.58                 "
      ]
     },
     "metadata": {},
     "output_type": "display_data"
    }
   ],
   "source": [
    "#we will compare daily intensities to daily calories burned\n",
    "\n",
    "#summary of daily instensities\n",
    "\n",
    "daily_intensities_summary <- daily_intensities %>%\n",
    "   group_by(Id)  %>%\n",
    "   summarize(average_VeryActiveMinutes = mean(VeryActiveMinutes), average_FairlyActiveMinutes = mean(FairlyActiveMinutes), \n",
    "   average_LightlyActiveMinutes = mean(LightlyActiveMinutes), average_SedentaryMinutes = mean(SedentaryMinutes)) %>%\n",
    "   mutate(average_VeryActiveMinutes = round(average_VeryActiveMinutes,2),average_FairlyActiveMinutes = round(average_FairlyActiveMinutes,2), \n",
    "   average_LightlyActiveMinutes = round(average_LightlyActiveMinutes,2), average_SedentaryMinutes = round(average_SedentaryMinutes,2))\n",
    "\n",
    "head(daily_intensities_summary)\n",
    "\n",
    "#group daily intensities and daily calories\n",
    "\n",
    "intensities_calories <- full_join(daily_calories_summary, daily_intensities_summary, by = \"Id\")\n",
    "\n",
    "head(intensities_calories)\n",
    "\n",
    "\n",
    "\n",
    "\n",
    " "
   ]
  },
  {
   "cell_type": "code",
   "execution_count": 15,
   "id": "f378c796",
   "metadata": {
    "execution": {
     "iopub.execute_input": "2021-06-11T22:14:38.458829Z",
     "iopub.status.busy": "2021-06-11T22:14:38.456576Z",
     "iopub.status.idle": "2021-06-11T22:14:38.580153Z",
     "shell.execute_reply": "2021-06-11T22:14:38.578409Z"
    },
    "papermill": {
     "duration": 0.17591,
     "end_time": "2021-06-11T22:14:38.580299",
     "exception": false,
     "start_time": "2021-06-11T22:14:38.404389",
     "status": "completed"
    },
    "tags": []
   },
   "outputs": [
    {
     "data": {
      "text/html": [
       "<table class=\"dataframe\">\n",
       "<caption>A tibble: 6 × 2</caption>\n",
       "<thead>\n",
       "\t<tr><th scope=col>Id</th><th scope=col>average_weight</th></tr>\n",
       "\t<tr><th scope=col>&lt;dbl&gt;</th><th scope=col>&lt;dbl&gt;</th></tr>\n",
       "</thead>\n",
       "<tbody>\n",
       "\t<tr><td>1503960366</td><td>115.96</td></tr>\n",
       "\t<tr><td>1927972279</td><td>294.32</td></tr>\n",
       "\t<tr><td>2873212765</td><td>125.66</td></tr>\n",
       "\t<tr><td>4319703577</td><td>159.50</td></tr>\n",
       "\t<tr><td>4558609924</td><td>153.53</td></tr>\n",
       "\t<tr><td>5577150313</td><td>199.96</td></tr>\n",
       "</tbody>\n",
       "</table>\n"
      ],
      "text/latex": [
       "A tibble: 6 × 2\n",
       "\\begin{tabular}{ll}\n",
       " Id & average\\_weight\\\\\n",
       " <dbl> & <dbl>\\\\\n",
       "\\hline\n",
       "\t 1503960366 & 115.96\\\\\n",
       "\t 1927972279 & 294.32\\\\\n",
       "\t 2873212765 & 125.66\\\\\n",
       "\t 4319703577 & 159.50\\\\\n",
       "\t 4558609924 & 153.53\\\\\n",
       "\t 5577150313 & 199.96\\\\\n",
       "\\end{tabular}\n"
      ],
      "text/markdown": [
       "\n",
       "A tibble: 6 × 2\n",
       "\n",
       "| Id &lt;dbl&gt; | average_weight &lt;dbl&gt; |\n",
       "|---|---|\n",
       "| 1503960366 | 115.96 |\n",
       "| 1927972279 | 294.32 |\n",
       "| 2873212765 | 125.66 |\n",
       "| 4319703577 | 159.50 |\n",
       "| 4558609924 | 153.53 |\n",
       "| 5577150313 | 199.96 |\n",
       "\n"
      ],
      "text/plain": [
       "  Id         average_weight\n",
       "1 1503960366 115.96        \n",
       "2 1927972279 294.32        \n",
       "3 2873212765 125.66        \n",
       "4 4319703577 159.50        \n",
       "5 4558609924 153.53        \n",
       "6 5577150313 199.96        "
      ]
     },
     "metadata": {},
     "output_type": "display_data"
    },
    {
     "data": {
      "text/html": [
       "<table class=\"dataframe\">\n",
       "<caption>A tibble: 6 × 5</caption>\n",
       "<thead>\n",
       "\t<tr><th scope=col>Id</th><th scope=col>average_VeryActiveMinutes</th><th scope=col>average_FairlyActiveMinutes</th><th scope=col>average_LightlyActiveMinutes</th><th scope=col>average_SedentaryMinutes</th></tr>\n",
       "\t<tr><th scope=col>&lt;dbl&gt;</th><th scope=col>&lt;dbl&gt;</th><th scope=col>&lt;dbl&gt;</th><th scope=col>&lt;dbl&gt;</th><th scope=col>&lt;dbl&gt;</th></tr>\n",
       "</thead>\n",
       "<tbody>\n",
       "\t<tr><td>1503960366</td><td>38.71</td><td>19.16</td><td>219.94</td><td> 848.16</td></tr>\n",
       "\t<tr><td>1624580081</td><td> 8.68</td><td> 5.81</td><td>153.48</td><td>1257.74</td></tr>\n",
       "\t<tr><td>1644430081</td><td> 9.57</td><td>21.37</td><td>178.47</td><td>1161.87</td></tr>\n",
       "\t<tr><td>1844505072</td><td> 0.13</td><td> 1.29</td><td>115.45</td><td>1206.61</td></tr>\n",
       "\t<tr><td>1927972279</td><td> 1.32</td><td> 0.77</td><td> 38.58</td><td>1317.42</td></tr>\n",
       "\t<tr><td>2022484408</td><td>36.29</td><td>19.35</td><td>257.45</td><td>1112.58</td></tr>\n",
       "</tbody>\n",
       "</table>\n"
      ],
      "text/latex": [
       "A tibble: 6 × 5\n",
       "\\begin{tabular}{lllll}\n",
       " Id & average\\_VeryActiveMinutes & average\\_FairlyActiveMinutes & average\\_LightlyActiveMinutes & average\\_SedentaryMinutes\\\\\n",
       " <dbl> & <dbl> & <dbl> & <dbl> & <dbl>\\\\\n",
       "\\hline\n",
       "\t 1503960366 & 38.71 & 19.16 & 219.94 &  848.16\\\\\n",
       "\t 1624580081 &  8.68 &  5.81 & 153.48 & 1257.74\\\\\n",
       "\t 1644430081 &  9.57 & 21.37 & 178.47 & 1161.87\\\\\n",
       "\t 1844505072 &  0.13 &  1.29 & 115.45 & 1206.61\\\\\n",
       "\t 1927972279 &  1.32 &  0.77 &  38.58 & 1317.42\\\\\n",
       "\t 2022484408 & 36.29 & 19.35 & 257.45 & 1112.58\\\\\n",
       "\\end{tabular}\n"
      ],
      "text/markdown": [
       "\n",
       "A tibble: 6 × 5\n",
       "\n",
       "| Id &lt;dbl&gt; | average_VeryActiveMinutes &lt;dbl&gt; | average_FairlyActiveMinutes &lt;dbl&gt; | average_LightlyActiveMinutes &lt;dbl&gt; | average_SedentaryMinutes &lt;dbl&gt; |\n",
       "|---|---|---|---|---|\n",
       "| 1503960366 | 38.71 | 19.16 | 219.94 |  848.16 |\n",
       "| 1624580081 |  8.68 |  5.81 | 153.48 | 1257.74 |\n",
       "| 1644430081 |  9.57 | 21.37 | 178.47 | 1161.87 |\n",
       "| 1844505072 |  0.13 |  1.29 | 115.45 | 1206.61 |\n",
       "| 1927972279 |  1.32 |  0.77 |  38.58 | 1317.42 |\n",
       "| 2022484408 | 36.29 | 19.35 | 257.45 | 1112.58 |\n",
       "\n"
      ],
      "text/plain": [
       "  Id         average_VeryActiveMinutes average_FairlyActiveMinutes\n",
       "1 1503960366 38.71                     19.16                      \n",
       "2 1624580081  8.68                      5.81                      \n",
       "3 1644430081  9.57                     21.37                      \n",
       "4 1844505072  0.13                      1.29                      \n",
       "5 1927972279  1.32                      0.77                      \n",
       "6 2022484408 36.29                     19.35                      \n",
       "  average_LightlyActiveMinutes average_SedentaryMinutes\n",
       "1 219.94                        848.16                 \n",
       "2 153.48                       1257.74                 \n",
       "3 178.47                       1161.87                 \n",
       "4 115.45                       1206.61                 \n",
       "5  38.58                       1317.42                 \n",
       "6 257.45                       1112.58                 "
      ]
     },
     "metadata": {},
     "output_type": "display_data"
    },
    {
     "data": {
      "text/html": [
       "<table class=\"dataframe\">\n",
       "<caption>A tibble: 6 × 6</caption>\n",
       "<thead>\n",
       "\t<tr><th scope=col>Id</th><th scope=col>average_VeryActiveMinutes</th><th scope=col>average_FairlyActiveMinutes</th><th scope=col>average_LightlyActiveMinutes</th><th scope=col>average_SedentaryMinutes</th><th scope=col>average_weight</th></tr>\n",
       "\t<tr><th scope=col>&lt;dbl&gt;</th><th scope=col>&lt;dbl&gt;</th><th scope=col>&lt;dbl&gt;</th><th scope=col>&lt;dbl&gt;</th><th scope=col>&lt;dbl&gt;</th><th scope=col>&lt;dbl&gt;</th></tr>\n",
       "</thead>\n",
       "<tbody>\n",
       "\t<tr><td>1503960366</td><td>38.71</td><td>19.16</td><td>219.94</td><td> 848.16</td><td>115.96</td></tr>\n",
       "\t<tr><td>1624580081</td><td> 8.68</td><td> 5.81</td><td>153.48</td><td>1257.74</td><td>    NA</td></tr>\n",
       "\t<tr><td>1644430081</td><td> 9.57</td><td>21.37</td><td>178.47</td><td>1161.87</td><td>    NA</td></tr>\n",
       "\t<tr><td>1844505072</td><td> 0.13</td><td> 1.29</td><td>115.45</td><td>1206.61</td><td>    NA</td></tr>\n",
       "\t<tr><td>1927972279</td><td> 1.32</td><td> 0.77</td><td> 38.58</td><td>1317.42</td><td>294.32</td></tr>\n",
       "\t<tr><td>2022484408</td><td>36.29</td><td>19.35</td><td>257.45</td><td>1112.58</td><td>    NA</td></tr>\n",
       "</tbody>\n",
       "</table>\n"
      ],
      "text/latex": [
       "A tibble: 6 × 6\n",
       "\\begin{tabular}{llllll}\n",
       " Id & average\\_VeryActiveMinutes & average\\_FairlyActiveMinutes & average\\_LightlyActiveMinutes & average\\_SedentaryMinutes & average\\_weight\\\\\n",
       " <dbl> & <dbl> & <dbl> & <dbl> & <dbl> & <dbl>\\\\\n",
       "\\hline\n",
       "\t 1503960366 & 38.71 & 19.16 & 219.94 &  848.16 & 115.96\\\\\n",
       "\t 1624580081 &  8.68 &  5.81 & 153.48 & 1257.74 &     NA\\\\\n",
       "\t 1644430081 &  9.57 & 21.37 & 178.47 & 1161.87 &     NA\\\\\n",
       "\t 1844505072 &  0.13 &  1.29 & 115.45 & 1206.61 &     NA\\\\\n",
       "\t 1927972279 &  1.32 &  0.77 &  38.58 & 1317.42 & 294.32\\\\\n",
       "\t 2022484408 & 36.29 & 19.35 & 257.45 & 1112.58 &     NA\\\\\n",
       "\\end{tabular}\n"
      ],
      "text/markdown": [
       "\n",
       "A tibble: 6 × 6\n",
       "\n",
       "| Id &lt;dbl&gt; | average_VeryActiveMinutes &lt;dbl&gt; | average_FairlyActiveMinutes &lt;dbl&gt; | average_LightlyActiveMinutes &lt;dbl&gt; | average_SedentaryMinutes &lt;dbl&gt; | average_weight &lt;dbl&gt; |\n",
       "|---|---|---|---|---|---|\n",
       "| 1503960366 | 38.71 | 19.16 | 219.94 |  848.16 | 115.96 |\n",
       "| 1624580081 |  8.68 |  5.81 | 153.48 | 1257.74 |     NA |\n",
       "| 1644430081 |  9.57 | 21.37 | 178.47 | 1161.87 |     NA |\n",
       "| 1844505072 |  0.13 |  1.29 | 115.45 | 1206.61 |     NA |\n",
       "| 1927972279 |  1.32 |  0.77 |  38.58 | 1317.42 | 294.32 |\n",
       "| 2022484408 | 36.29 | 19.35 | 257.45 | 1112.58 |     NA |\n",
       "\n"
      ],
      "text/plain": [
       "  Id         average_VeryActiveMinutes average_FairlyActiveMinutes\n",
       "1 1503960366 38.71                     19.16                      \n",
       "2 1624580081  8.68                      5.81                      \n",
       "3 1644430081  9.57                     21.37                      \n",
       "4 1844505072  0.13                      1.29                      \n",
       "5 1927972279  1.32                      0.77                      \n",
       "6 2022484408 36.29                     19.35                      \n",
       "  average_LightlyActiveMinutes average_SedentaryMinutes average_weight\n",
       "1 219.94                        848.16                  115.96        \n",
       "2 153.48                       1257.74                      NA        \n",
       "3 178.47                       1161.87                      NA        \n",
       "4 115.45                       1206.61                      NA        \n",
       "5  38.58                       1317.42                  294.32        \n",
       "6 257.45                       1112.58                      NA        "
      ]
     },
     "metadata": {},
     "output_type": "display_data"
    },
    {
     "data": {
      "text/html": [
       "<table class=\"dataframe\">\n",
       "<caption>A tibble: 6 × 6</caption>\n",
       "<thead>\n",
       "\t<tr><th scope=col>Id</th><th scope=col>average_VeryActiveMinutes</th><th scope=col>average_FairlyActiveMinutes</th><th scope=col>average_LightlyActiveMinutes</th><th scope=col>average_SedentaryMinutes</th><th scope=col>average_weight</th></tr>\n",
       "\t<tr><th scope=col>&lt;dbl&gt;</th><th scope=col>&lt;dbl&gt;</th><th scope=col>&lt;dbl&gt;</th><th scope=col>&lt;dbl&gt;</th><th scope=col>&lt;dbl&gt;</th><th scope=col>&lt;dbl&gt;</th></tr>\n",
       "</thead>\n",
       "<tbody>\n",
       "\t<tr><td>1503960366</td><td>38.71</td><td>19.16</td><td>219.94</td><td> 848.16</td><td>115.96</td></tr>\n",
       "\t<tr><td>1927972279</td><td> 1.32</td><td> 0.77</td><td> 38.58</td><td>1317.42</td><td>294.32</td></tr>\n",
       "\t<tr><td>2873212765</td><td>14.10</td><td> 6.13</td><td>308.00</td><td>1097.19</td><td>125.66</td></tr>\n",
       "\t<tr><td>4319703577</td><td> 3.58</td><td>12.32</td><td>228.77</td><td> 735.81</td><td>159.50</td></tr>\n",
       "\t<tr><td>4558609924</td><td>10.39</td><td>13.71</td><td>284.97</td><td>1093.61</td><td>153.53</td></tr>\n",
       "\t<tr><td>5577150313</td><td>87.33</td><td>29.83</td><td>147.93</td><td> 754.43</td><td>199.96</td></tr>\n",
       "</tbody>\n",
       "</table>\n"
      ],
      "text/latex": [
       "A tibble: 6 × 6\n",
       "\\begin{tabular}{llllll}\n",
       " Id & average\\_VeryActiveMinutes & average\\_FairlyActiveMinutes & average\\_LightlyActiveMinutes & average\\_SedentaryMinutes & average\\_weight\\\\\n",
       " <dbl> & <dbl> & <dbl> & <dbl> & <dbl> & <dbl>\\\\\n",
       "\\hline\n",
       "\t 1503960366 & 38.71 & 19.16 & 219.94 &  848.16 & 115.96\\\\\n",
       "\t 1927972279 &  1.32 &  0.77 &  38.58 & 1317.42 & 294.32\\\\\n",
       "\t 2873212765 & 14.10 &  6.13 & 308.00 & 1097.19 & 125.66\\\\\n",
       "\t 4319703577 &  3.58 & 12.32 & 228.77 &  735.81 & 159.50\\\\\n",
       "\t 4558609924 & 10.39 & 13.71 & 284.97 & 1093.61 & 153.53\\\\\n",
       "\t 5577150313 & 87.33 & 29.83 & 147.93 &  754.43 & 199.96\\\\\n",
       "\\end{tabular}\n"
      ],
      "text/markdown": [
       "\n",
       "A tibble: 6 × 6\n",
       "\n",
       "| Id &lt;dbl&gt; | average_VeryActiveMinutes &lt;dbl&gt; | average_FairlyActiveMinutes &lt;dbl&gt; | average_LightlyActiveMinutes &lt;dbl&gt; | average_SedentaryMinutes &lt;dbl&gt; | average_weight &lt;dbl&gt; |\n",
       "|---|---|---|---|---|---|\n",
       "| 1503960366 | 38.71 | 19.16 | 219.94 |  848.16 | 115.96 |\n",
       "| 1927972279 |  1.32 |  0.77 |  38.58 | 1317.42 | 294.32 |\n",
       "| 2873212765 | 14.10 |  6.13 | 308.00 | 1097.19 | 125.66 |\n",
       "| 4319703577 |  3.58 | 12.32 | 228.77 |  735.81 | 159.50 |\n",
       "| 4558609924 | 10.39 | 13.71 | 284.97 | 1093.61 | 153.53 |\n",
       "| 5577150313 | 87.33 | 29.83 | 147.93 |  754.43 | 199.96 |\n",
       "\n"
      ],
      "text/plain": [
       "  Id         average_VeryActiveMinutes average_FairlyActiveMinutes\n",
       "1 1503960366 38.71                     19.16                      \n",
       "2 1927972279  1.32                      0.77                      \n",
       "3 2873212765 14.10                      6.13                      \n",
       "4 4319703577  3.58                     12.32                      \n",
       "5 4558609924 10.39                     13.71                      \n",
       "6 5577150313 87.33                     29.83                      \n",
       "  average_LightlyActiveMinutes average_SedentaryMinutes average_weight\n",
       "1 219.94                        848.16                  115.96        \n",
       "2  38.58                       1317.42                  294.32        \n",
       "3 308.00                       1097.19                  125.66        \n",
       "4 228.77                        735.81                  159.50        \n",
       "5 284.97                       1093.61                  153.53        \n",
       "6 147.93                        754.43                  199.96        "
      ]
     },
     "metadata": {},
     "output_type": "display_data"
    },
    {
     "data": {
      "text/html": [
       "<table class=\"dataframe\">\n",
       "<caption>A tibble: 6 × 5</caption>\n",
       "<thead>\n",
       "\t<tr><th scope=col>Id</th><th scope=col>average_VeryActiveMinutes</th><th scope=col>average_FairlyActiveMinutes</th><th scope=col>average_LightlyActiveMinutes</th><th scope=col>average_weight</th></tr>\n",
       "\t<tr><th scope=col>&lt;dbl&gt;</th><th scope=col>&lt;dbl&gt;</th><th scope=col>&lt;dbl&gt;</th><th scope=col>&lt;dbl&gt;</th><th scope=col>&lt;dbl&gt;</th></tr>\n",
       "</thead>\n",
       "<tbody>\n",
       "\t<tr><td>1503960366</td><td>38.71</td><td>19.16</td><td>219.94</td><td>115.96</td></tr>\n",
       "\t<tr><td>1927972279</td><td> 1.32</td><td> 0.77</td><td> 38.58</td><td>294.32</td></tr>\n",
       "\t<tr><td>2873212765</td><td>14.10</td><td> 6.13</td><td>308.00</td><td>125.66</td></tr>\n",
       "\t<tr><td>4319703577</td><td> 3.58</td><td>12.32</td><td>228.77</td><td>159.50</td></tr>\n",
       "\t<tr><td>4558609924</td><td>10.39</td><td>13.71</td><td>284.97</td><td>153.53</td></tr>\n",
       "\t<tr><td>5577150313</td><td>87.33</td><td>29.83</td><td>147.93</td><td>199.96</td></tr>\n",
       "</tbody>\n",
       "</table>\n"
      ],
      "text/latex": [
       "A tibble: 6 × 5\n",
       "\\begin{tabular}{lllll}\n",
       " Id & average\\_VeryActiveMinutes & average\\_FairlyActiveMinutes & average\\_LightlyActiveMinutes & average\\_weight\\\\\n",
       " <dbl> & <dbl> & <dbl> & <dbl> & <dbl>\\\\\n",
       "\\hline\n",
       "\t 1503960366 & 38.71 & 19.16 & 219.94 & 115.96\\\\\n",
       "\t 1927972279 &  1.32 &  0.77 &  38.58 & 294.32\\\\\n",
       "\t 2873212765 & 14.10 &  6.13 & 308.00 & 125.66\\\\\n",
       "\t 4319703577 &  3.58 & 12.32 & 228.77 & 159.50\\\\\n",
       "\t 4558609924 & 10.39 & 13.71 & 284.97 & 153.53\\\\\n",
       "\t 5577150313 & 87.33 & 29.83 & 147.93 & 199.96\\\\\n",
       "\\end{tabular}\n"
      ],
      "text/markdown": [
       "\n",
       "A tibble: 6 × 5\n",
       "\n",
       "| Id &lt;dbl&gt; | average_VeryActiveMinutes &lt;dbl&gt; | average_FairlyActiveMinutes &lt;dbl&gt; | average_LightlyActiveMinutes &lt;dbl&gt; | average_weight &lt;dbl&gt; |\n",
       "|---|---|---|---|---|\n",
       "| 1503960366 | 38.71 | 19.16 | 219.94 | 115.96 |\n",
       "| 1927972279 |  1.32 |  0.77 |  38.58 | 294.32 |\n",
       "| 2873212765 | 14.10 |  6.13 | 308.00 | 125.66 |\n",
       "| 4319703577 |  3.58 | 12.32 | 228.77 | 159.50 |\n",
       "| 4558609924 | 10.39 | 13.71 | 284.97 | 153.53 |\n",
       "| 5577150313 | 87.33 | 29.83 | 147.93 | 199.96 |\n",
       "\n"
      ],
      "text/plain": [
       "  Id         average_VeryActiveMinutes average_FairlyActiveMinutes\n",
       "1 1503960366 38.71                     19.16                      \n",
       "2 1927972279  1.32                      0.77                      \n",
       "3 2873212765 14.10                      6.13                      \n",
       "4 4319703577  3.58                     12.32                      \n",
       "5 4558609924 10.39                     13.71                      \n",
       "6 5577150313 87.33                     29.83                      \n",
       "  average_LightlyActiveMinutes average_weight\n",
       "1 219.94                       115.96        \n",
       "2  38.58                       294.32        \n",
       "3 308.00                       125.66        \n",
       "4 228.77                       159.50        \n",
       "5 284.97                       153.53        \n",
       "6 147.93                       199.96        "
      ]
     },
     "metadata": {},
     "output_type": "display_data"
    }
   ],
   "source": [
    "#compare daily activity and weight log\n",
    "\n",
    "#summarize weight log\n",
    "\n",
    "weightlog_summary <- weight_log %>%\n",
    "   group_by(Id)  %>%\n",
    "   summarize(average_weight = mean(WeightPounds)) %>%\n",
    "   mutate(average_weight = round(average_weight,2))\n",
    "\n",
    "head(weightlog_summary)\n",
    "\n",
    "#summarize daily activity\n",
    "\n",
    "daily_activity_summary <- daily_activity %>%\n",
    "    group_by(Id)  %>%\n",
    "    summarize(average_VeryActiveMinutes =mean(VeryActiveMinutes), average_FairlyActiveMinutes = mean(FairlyActiveMinutes), \n",
    "    average_LightlyActiveMinutes = mean(LightlyActiveMinutes), average_SedentaryMinutes = mean(SedentaryMinutes)) %>%\n",
    "   mutate(average_VeryActiveMinutes = round(average_VeryActiveMinutes,2),average_FairlyActiveMinutes = round(average_FairlyActiveMinutes,2), \n",
    "   average_LightlyActiveMinutes = round(average_LightlyActiveMinutes,2), average_SedentaryMinutes = round(average_SedentaryMinutes,2))\n",
    "\n",
    "\n",
    "head(daily_activity_summary)\n",
    "\n",
    "#now combine daily activity and weight log summaries\n",
    "\n",
    "dailyActivity_weightlog <- full_join(daily_activity_summary, weightlog_summary, by = \"Id\")\n",
    "\n",
    "head(dailyActivity_weightlog)\n",
    "\n",
    "#remove na values\n",
    "\n",
    "dailyActivity_weightlog2 <- na.omit(dailyActivity_weightlog)\n",
    "\n",
    "head(dailyActivity_weightlog2)\n",
    "\n",
    "\n",
    "dailyActivity_weightlog <- dailyActivity_weightlog2\n",
    "\n",
    "dailyActivity_weightlog <- subset(dailyActivity_weightlog, select = -c(average_SedentaryMinutes))\n",
    "\n",
    "\n",
    "head(dailyActivity_weightlog)\n",
    "\n",
    "\n",
    "\n"
   ]
  },
  {
   "cell_type": "markdown",
   "id": "e8902f94",
   "metadata": {
    "papermill": {
     "duration": 0.052213,
     "end_time": "2021-06-11T22:14:38.685383",
     "exception": false,
     "start_time": "2021-06-11T22:14:38.633170",
     "status": "completed"
    },
    "tags": []
   },
   "source": [
    "### Step Four: **Analyze**\n",
    "\n",
    "#### Here we will analyze the data by creating visualizations to get a better picture of what is happening with the data."
   ]
  },
  {
   "cell_type": "markdown",
   "id": "387268e2",
   "metadata": {
    "papermill": {
     "duration": 0.051846,
     "end_time": "2021-06-11T22:14:38.787767",
     "exception": false,
     "start_time": "2021-06-11T22:14:38.735921",
     "status": "completed"
    },
    "tags": []
   },
   "source": [
    "#### We will create graphs with the above combined datasets including:\n",
    "\n",
    "- calories and steps\n",
    "- calories and sleep\n",
    "- intensity and calories\n",
    "- daily activity and weight"
   ]
  },
  {
   "cell_type": "code",
   "execution_count": 16,
   "id": "0c7ba285",
   "metadata": {
    "execution": {
     "iopub.execute_input": "2021-06-11T22:14:38.896586Z",
     "iopub.status.busy": "2021-06-11T22:14:38.894386Z",
     "iopub.status.idle": "2021-06-11T22:14:40.673859Z",
     "shell.execute_reply": "2021-06-11T22:14:40.672313Z"
    },
    "papermill": {
     "duration": 1.835801,
     "end_time": "2021-06-11T22:14:40.674134",
     "exception": false,
     "start_time": "2021-06-11T22:14:38.838333",
     "status": "completed"
    },
    "tags": []
   },
   "outputs": [
    {
     "data": {
      "image/png": "[encoded data removed]"
     },
     "metadata": {
      "image/png": {
       "height": 420,
       "width": 420
      }
     },
     "output_type": "display_data"
    }
   ],
   "source": [
    "#calories vs steps graph\n",
    "\n",
    "ggplot(data = calories_steps) +\n",
    "    geom_point(mapping = aes(x = average_steps, y = average_calories),color = \"purple\") +\n",
    "    geom_smooth(mapping = aes(x= average_steps, y = average_calories), method = loess, formula = y ~ x, color = \"black\") +\n",
    "    labs(title = \"Calories vs Steps\") +\n",
    "    labs(x = \"Steps\", y = \"Calores\")\n",
    "  \n",
    "    \n",
    "       "
   ]
  },
  {
   "cell_type": "markdown",
   "id": "372d19bc",
   "metadata": {
    "papermill": {
     "duration": 0.053312,
     "end_time": "2021-06-11T22:14:40.782052",
     "exception": false,
     "start_time": "2021-06-11T22:14:40.728740",
     "status": "completed"
    },
    "tags": []
   },
   "source": [
    "#### The graph shows that there is mostly an upward trend of steps to calories, except in instances where calories burned are high compared to amount of steps. We can determine that in these instances the participants may be running as opposed to walking slowly."
   ]
  },
  {
   "cell_type": "code",
   "execution_count": 17,
   "id": "1830ebc3",
   "metadata": {
    "execution": {
     "iopub.execute_input": "2021-06-11T22:14:40.893798Z",
     "iopub.status.busy": "2021-06-11T22:14:40.891767Z",
     "iopub.status.idle": "2021-06-11T22:14:41.280911Z",
     "shell.execute_reply": "2021-06-11T22:14:41.279381Z"
    },
    "papermill": {
     "duration": 0.445691,
     "end_time": "2021-06-11T22:14:41.281069",
     "exception": false,
     "start_time": "2021-06-11T22:14:40.835378",
     "status": "completed"
    },
    "tags": []
   },
   "outputs": [
    {
     "data": {
      "image/png": "[encoded data removed]"
     },
     "metadata": {
      "image/png": {
       "height": 420,
       "width": 420
      }
     },
     "output_type": "display_data"
    }
   ],
   "source": [
    "#compare average calories burned to average sleep\n",
    "\n",
    "ggplot(data = calories_sleep) +\n",
    "   geom_point(mapping = aes(x = average_sleep, y = average_calories), color = \"blue\") +\n",
    "   geom_smooth(mapping = aes(x = average_sleep, y = average_calories), method = loess, formula = y ~ x, color = \"green\") +\n",
    "   labs(title = \"Calories vs Sleep\")+\n",
    "   labs(x = \"Sleep\", y = \"Calories\")\n"
   ]
  },
  {
   "cell_type": "markdown",
   "id": "ef27b996",
   "metadata": {
    "papermill": {
     "duration": 0.054568,
     "end_time": "2021-06-11T22:14:41.390435",
     "exception": false,
     "start_time": "2021-06-11T22:14:41.335867",
     "status": "completed"
    },
    "tags": []
   },
   "source": [
    "#### Looking at the graph, we can see that most participants are getting an average of 5-8 hours of sleep, but there is no real correlation between the amount of sleep to the amount of calories burned daily. This could be due to low amount of sleep tracking in participants."
   ]
  },
  {
   "cell_type": "code",
   "execution_count": 18,
   "id": "ff490401",
   "metadata": {
    "execution": {
     "iopub.execute_input": "2021-06-11T22:14:41.506296Z",
     "iopub.status.busy": "2021-06-11T22:14:41.504170Z",
     "iopub.status.idle": "2021-06-11T22:14:42.121540Z",
     "shell.execute_reply": "2021-06-11T22:14:42.120869Z"
    },
    "papermill": {
     "duration": 0.676115,
     "end_time": "2021-06-11T22:14:42.121687",
     "exception": false,
     "start_time": "2021-06-11T22:14:41.445572",
     "status": "completed"
    },
    "tags": []
   },
   "outputs": [
    {
     "data": {
      "image/png": "[encoded data removed]"
     },
     "metadata": {
      "image/png": {
       "height": 420,
       "width": 420
      }
     },
     "output_type": "display_data"
    }
   ],
   "source": [
    "#compare daily intensities to calories burned\n",
    "\n",
    "ggplot(intensities_calories, aes(x = average_calories)) +\n",
    "  geom_jitter(aes(y = average_VeryActiveMinutes, color = \"Very Active\")) +\n",
    "  geom_jitter(aes(y = average_FairlyActiveMinutes, color = \"Fairly Active\")) +\n",
    "  geom_jitter(aes(y = average_LightlyActiveMinutes, color = \"Lightly Active\")) +\n",
    "  geom_jitter(aes(y = average_SedentaryMinutes, color = \"Sedentary\")) +\n",
    "  geom_smooth(aes(y = average_VeryActiveMinutes), method = lm, se = FALSE, formula = y ~ x, color = \"Violet\") +\n",
    "  geom_smooth(aes(y = average_FairlyActiveMinutes), method = lm, se = FALSE, formula = y ~ x, color = \"Pink\") +\n",
    "  geom_smooth(aes(y = average_LightlyActiveMinutes), method = lm, se = FALSE, formula = y ~ x, color = \"Green\") +\n",
    "  geom_smooth(aes(y = average_SedentaryMinutes), method = lm, se = FALSE, formula = y ~ x, color = \"Blue\") +\n",
    "  labs(x = \"Calories\", y = \"Minutes\") +\n",
    "  labs(title = \"Intensity vs Calories Burned\")"
   ]
  },
  {
   "cell_type": "markdown",
   "id": "72e30fc3",
   "metadata": {
    "papermill": {
     "duration": 0.074916,
     "end_time": "2021-06-11T22:14:42.254451",
     "exception": false,
     "start_time": "2021-06-11T22:14:42.179535",
     "status": "completed"
    },
    "tags": []
   },
   "source": [
    "#### Looking at the graph, we can see that there is a high amount of sendentary time tracked for participants, and the calorie expenditure is mostly in the 2000-3000 range. There is also an upward trend for both Fairly and Very Active minutes in relation to calorie expenditure, suggesting the more active the participant is, the more calories burned, which makes sense. "
   ]
  },
  {
   "cell_type": "code",
   "execution_count": 19,
   "id": "66adebbd",
   "metadata": {
    "execution": {
     "iopub.execute_input": "2021-06-11T22:14:42.381119Z",
     "iopub.status.busy": "2021-06-11T22:14:42.378857Z",
     "iopub.status.idle": "2021-06-11T22:14:42.764928Z",
     "shell.execute_reply": "2021-06-11T22:14:42.763790Z"
    },
    "papermill": {
     "duration": 0.450487,
     "end_time": "2021-06-11T22:14:42.765077",
     "exception": false,
     "start_time": "2021-06-11T22:14:42.314590",
     "status": "completed"
    },
    "tags": []
   },
   "outputs": [
    {
     "data": {
      "text/html": [
       "<table class=\"dataframe\">\n",
       "<caption>A tibble: 6 × 5</caption>\n",
       "<thead>\n",
       "\t<tr><th scope=col>Id</th><th scope=col>average_VeryActiveMinutes</th><th scope=col>average_FairlyActiveMinutes</th><th scope=col>average_LightlyActiveMinutes</th><th scope=col>average_weight</th></tr>\n",
       "\t<tr><th scope=col>&lt;dbl&gt;</th><th scope=col>&lt;dbl&gt;</th><th scope=col>&lt;dbl&gt;</th><th scope=col>&lt;dbl&gt;</th><th scope=col>&lt;dbl&gt;</th></tr>\n",
       "</thead>\n",
       "<tbody>\n",
       "\t<tr><td>1503960366</td><td>38.71</td><td>19.16</td><td>219.94</td><td>115.96</td></tr>\n",
       "\t<tr><td>1927972279</td><td> 1.32</td><td> 0.77</td><td> 38.58</td><td>294.32</td></tr>\n",
       "\t<tr><td>2873212765</td><td>14.10</td><td> 6.13</td><td>308.00</td><td>125.66</td></tr>\n",
       "\t<tr><td>4319703577</td><td> 3.58</td><td>12.32</td><td>228.77</td><td>159.50</td></tr>\n",
       "\t<tr><td>4558609924</td><td>10.39</td><td>13.71</td><td>284.97</td><td>153.53</td></tr>\n",
       "\t<tr><td>5577150313</td><td>87.33</td><td>29.83</td><td>147.93</td><td>199.96</td></tr>\n",
       "</tbody>\n",
       "</table>\n"
      ],
      "text/latex": [
       "A tibble: 6 × 5\n",
       "\\begin{tabular}{lllll}\n",
       " Id & average\\_VeryActiveMinutes & average\\_FairlyActiveMinutes & average\\_LightlyActiveMinutes & average\\_weight\\\\\n",
       " <dbl> & <dbl> & <dbl> & <dbl> & <dbl>\\\\\n",
       "\\hline\n",
       "\t 1503960366 & 38.71 & 19.16 & 219.94 & 115.96\\\\\n",
       "\t 1927972279 &  1.32 &  0.77 &  38.58 & 294.32\\\\\n",
       "\t 2873212765 & 14.10 &  6.13 & 308.00 & 125.66\\\\\n",
       "\t 4319703577 &  3.58 & 12.32 & 228.77 & 159.50\\\\\n",
       "\t 4558609924 & 10.39 & 13.71 & 284.97 & 153.53\\\\\n",
       "\t 5577150313 & 87.33 & 29.83 & 147.93 & 199.96\\\\\n",
       "\\end{tabular}\n"
      ],
      "text/markdown": [
       "\n",
       "A tibble: 6 × 5\n",
       "\n",
       "| Id &lt;dbl&gt; | average_VeryActiveMinutes &lt;dbl&gt; | average_FairlyActiveMinutes &lt;dbl&gt; | average_LightlyActiveMinutes &lt;dbl&gt; | average_weight &lt;dbl&gt; |\n",
       "|---|---|---|---|---|\n",
       "| 1503960366 | 38.71 | 19.16 | 219.94 | 115.96 |\n",
       "| 1927972279 |  1.32 |  0.77 |  38.58 | 294.32 |\n",
       "| 2873212765 | 14.10 |  6.13 | 308.00 | 125.66 |\n",
       "| 4319703577 |  3.58 | 12.32 | 228.77 | 159.50 |\n",
       "| 4558609924 | 10.39 | 13.71 | 284.97 | 153.53 |\n",
       "| 5577150313 | 87.33 | 29.83 | 147.93 | 199.96 |\n",
       "\n"
      ],
      "text/plain": [
       "  Id         average_VeryActiveMinutes average_FairlyActiveMinutes\n",
       "1 1503960366 38.71                     19.16                      \n",
       "2 1927972279  1.32                      0.77                      \n",
       "3 2873212765 14.10                      6.13                      \n",
       "4 4319703577  3.58                     12.32                      \n",
       "5 4558609924 10.39                     13.71                      \n",
       "6 5577150313 87.33                     29.83                      \n",
       "  average_LightlyActiveMinutes average_weight\n",
       "1 219.94                       115.96        \n",
       "2  38.58                       294.32        \n",
       "3 308.00                       125.66        \n",
       "4 228.77                       159.50        \n",
       "5 284.97                       153.53        \n",
       "6 147.93                       199.96        "
      ]
     },
     "metadata": {},
     "output_type": "display_data"
    },
    {
     "data": {
      "text/html": [
       "<table class=\"dataframe\">\n",
       "<caption>A tibble: 6 × 6</caption>\n",
       "<thead>\n",
       "\t<tr><th scope=col>Id</th><th scope=col>average_VeryActiveMinutes</th><th scope=col>average_FairlyActiveMinutes</th><th scope=col>average_LightlyActiveMinutes</th><th scope=col>average_weight</th><th scope=col>Total_Active_Minutes</th></tr>\n",
       "\t<tr><th scope=col>&lt;dbl&gt;</th><th scope=col>&lt;dbl&gt;</th><th scope=col>&lt;dbl&gt;</th><th scope=col>&lt;dbl&gt;</th><th scope=col>&lt;dbl&gt;</th><th scope=col>&lt;dbl&gt;</th></tr>\n",
       "</thead>\n",
       "<tbody>\n",
       "\t<tr><td>1503960366</td><td>38.71</td><td>19.16</td><td>219.94</td><td>115.96</td><td>297.36</td></tr>\n",
       "\t<tr><td>1927972279</td><td> 1.32</td><td> 0.77</td><td> 38.58</td><td>294.32</td><td> 41.22</td></tr>\n",
       "\t<tr><td>2873212765</td><td>14.10</td><td> 6.13</td><td>308.00</td><td>125.66</td><td>336.20</td></tr>\n",
       "\t<tr><td>4319703577</td><td> 3.58</td><td>12.32</td><td>228.77</td><td>159.50</td><td>235.93</td></tr>\n",
       "\t<tr><td>4558609924</td><td>10.39</td><td>13.71</td><td>284.97</td><td>153.53</td><td>305.75</td></tr>\n",
       "\t<tr><td>5577150313</td><td>87.33</td><td>29.83</td><td>147.93</td><td>199.96</td><td>322.59</td></tr>\n",
       "</tbody>\n",
       "</table>\n"
      ],
      "text/latex": [
       "A tibble: 6 × 6\n",
       "\\begin{tabular}{llllll}\n",
       " Id & average\\_VeryActiveMinutes & average\\_FairlyActiveMinutes & average\\_LightlyActiveMinutes & average\\_weight & Total\\_Active\\_Minutes\\\\\n",
       " <dbl> & <dbl> & <dbl> & <dbl> & <dbl> & <dbl>\\\\\n",
       "\\hline\n",
       "\t 1503960366 & 38.71 & 19.16 & 219.94 & 115.96 & 297.36\\\\\n",
       "\t 1927972279 &  1.32 &  0.77 &  38.58 & 294.32 &  41.22\\\\\n",
       "\t 2873212765 & 14.10 &  6.13 & 308.00 & 125.66 & 336.20\\\\\n",
       "\t 4319703577 &  3.58 & 12.32 & 228.77 & 159.50 & 235.93\\\\\n",
       "\t 4558609924 & 10.39 & 13.71 & 284.97 & 153.53 & 305.75\\\\\n",
       "\t 5577150313 & 87.33 & 29.83 & 147.93 & 199.96 & 322.59\\\\\n",
       "\\end{tabular}\n"
      ],
      "text/markdown": [
       "\n",
       "A tibble: 6 × 6\n",
       "\n",
       "| Id &lt;dbl&gt; | average_VeryActiveMinutes &lt;dbl&gt; | average_FairlyActiveMinutes &lt;dbl&gt; | average_LightlyActiveMinutes &lt;dbl&gt; | average_weight &lt;dbl&gt; | Total_Active_Minutes &lt;dbl&gt; |\n",
       "|---|---|---|---|---|---|\n",
       "| 1503960366 | 38.71 | 19.16 | 219.94 | 115.96 | 297.36 |\n",
       "| 1927972279 |  1.32 |  0.77 |  38.58 | 294.32 |  41.22 |\n",
       "| 2873212765 | 14.10 |  6.13 | 308.00 | 125.66 | 336.20 |\n",
       "| 4319703577 |  3.58 | 12.32 | 228.77 | 159.50 | 235.93 |\n",
       "| 4558609924 | 10.39 | 13.71 | 284.97 | 153.53 | 305.75 |\n",
       "| 5577150313 | 87.33 | 29.83 | 147.93 | 199.96 | 322.59 |\n",
       "\n"
      ],
      "text/plain": [
       "  Id         average_VeryActiveMinutes average_FairlyActiveMinutes\n",
       "1 1503960366 38.71                     19.16                      \n",
       "2 1927972279  1.32                      0.77                      \n",
       "3 2873212765 14.10                      6.13                      \n",
       "4 4319703577  3.58                     12.32                      \n",
       "5 4558609924 10.39                     13.71                      \n",
       "6 5577150313 87.33                     29.83                      \n",
       "  average_LightlyActiveMinutes average_weight Total_Active_Minutes\n",
       "1 219.94                       115.96         297.36              \n",
       "2  38.58                       294.32          41.22              \n",
       "3 308.00                       125.66         336.20              \n",
       "4 228.77                       159.50         235.93              \n",
       "5 284.97                       153.53         305.75              \n",
       "6 147.93                       199.96         322.59              "
      ]
     },
     "metadata": {},
     "output_type": "display_data"
    },
    {
     "data": {
      "text/html": [
       "<table class=\"dataframe\">\n",
       "<caption>A tibble: 8 × 3</caption>\n",
       "<thead>\n",
       "\t<tr><th scope=col>Id</th><th scope=col>average_weight</th><th scope=col>Total_Active_Minutes</th></tr>\n",
       "\t<tr><th scope=col>&lt;dbl&gt;</th><th scope=col>&lt;dbl&gt;</th><th scope=col>&lt;dbl&gt;</th></tr>\n",
       "</thead>\n",
       "<tbody>\n",
       "\t<tr><td>1503960366</td><td>115.96</td><td>297.36</td></tr>\n",
       "\t<tr><td>1927972279</td><td>294.32</td><td> 41.22</td></tr>\n",
       "\t<tr><td>2873212765</td><td>125.66</td><td>336.20</td></tr>\n",
       "\t<tr><td>4319703577</td><td>159.50</td><td>235.93</td></tr>\n",
       "\t<tr><td>4558609924</td><td>153.53</td><td>305.75</td></tr>\n",
       "\t<tr><td>5577150313</td><td>199.96</td><td>322.59</td></tr>\n",
       "\t<tr><td>6962181067</td><td>135.70</td><td>291.43</td></tr>\n",
       "\t<tr><td>8877689391</td><td>187.71</td><td>366.83</td></tr>\n",
       "</tbody>\n",
       "</table>\n"
      ],
      "text/latex": [
       "A tibble: 8 × 3\n",
       "\\begin{tabular}{lll}\n",
       " Id & average\\_weight & Total\\_Active\\_Minutes\\\\\n",
       " <dbl> & <dbl> & <dbl>\\\\\n",
       "\\hline\n",
       "\t 1503960366 & 115.96 & 297.36\\\\\n",
       "\t 1927972279 & 294.32 &  41.22\\\\\n",
       "\t 2873212765 & 125.66 & 336.20\\\\\n",
       "\t 4319703577 & 159.50 & 235.93\\\\\n",
       "\t 4558609924 & 153.53 & 305.75\\\\\n",
       "\t 5577150313 & 199.96 & 322.59\\\\\n",
       "\t 6962181067 & 135.70 & 291.43\\\\\n",
       "\t 8877689391 & 187.71 & 366.83\\\\\n",
       "\\end{tabular}\n"
      ],
      "text/markdown": [
       "\n",
       "A tibble: 8 × 3\n",
       "\n",
       "| Id &lt;dbl&gt; | average_weight &lt;dbl&gt; | Total_Active_Minutes &lt;dbl&gt; |\n",
       "|---|---|---|\n",
       "| 1503960366 | 115.96 | 297.36 |\n",
       "| 1927972279 | 294.32 |  41.22 |\n",
       "| 2873212765 | 125.66 | 336.20 |\n",
       "| 4319703577 | 159.50 | 235.93 |\n",
       "| 4558609924 | 153.53 | 305.75 |\n",
       "| 5577150313 | 199.96 | 322.59 |\n",
       "| 6962181067 | 135.70 | 291.43 |\n",
       "| 8877689391 | 187.71 | 366.83 |\n",
       "\n"
      ],
      "text/plain": [
       "  Id         average_weight Total_Active_Minutes\n",
       "1 1503960366 115.96         297.36              \n",
       "2 1927972279 294.32          41.22              \n",
       "3 2873212765 125.66         336.20              \n",
       "4 4319703577 159.50         235.93              \n",
       "5 4558609924 153.53         305.75              \n",
       "6 5577150313 199.96         322.59              \n",
       "7 6962181067 135.70         291.43              \n",
       "8 8877689391 187.71         366.83              "
      ]
     },
     "metadata": {},
     "output_type": "display_data"
    },
    {
     "data": {
      "image/png": "[encoded data removed]"
     },
     "metadata": {
      "image/png": {
       "height": 420,
       "width": 420
      }
     },
     "output_type": "display_data"
    }
   ],
   "source": [
    "#compare daily activity and weight\n",
    "\n",
    "head(dailyActivity_weightlog)\n",
    "\n",
    "dailyActivity_weightlog2 <- dailyActivity_weightlog %>%\n",
    "  group_by(Id)  %>%\n",
    "  summarize(Id, average_VeryActiveMinutes, average_FairlyActiveMinutes, average_LightlyActiveMinutes, average_weight,\n",
    "            Total_Active_Minutes = (average_VeryActiveMinutes + average_VeryActiveMinutes + average_LightlyActiveMinutes))\n",
    "\n",
    "head(dailyActivity_weightlog2)\n",
    "\n",
    "dailyActivity_weightlog_final <- subset(dailyActivity_weightlog2,select = -c(average_VeryActiveMinutes, average_FairlyActiveMinutes,average_LightlyActiveMinutes))\n",
    "\n",
    "View(dailyActivity_weightlog_final)\n",
    "\n",
    "ggplot(dailyActivity_weightlog_final, aes(x=Total_Active_Minutes, y=average_weight)) +\n",
    "\n",
    "  geom_point(aes(x=Total_Active_Minutes, y=average_weight)) +\n",
    "  geom_line(color = \"Purple\") +\n",
    "  labs(x = \"Total Active Minutes\", y = \"Weight in Pounds\")+\n",
    "  labs(title = \"Daily Activity vs Weight\")\n"
   ]
  },
  {
   "cell_type": "markdown",
   "id": "d61986c3",
   "metadata": {
    "papermill": {
     "duration": 0.061026,
     "end_time": "2021-06-11T22:14:42.889335",
     "exception": false,
     "start_time": "2021-06-11T22:14:42.828309",
     "status": "completed"
    },
    "tags": []
   },
   "source": [
    "#### Looking at the graph, there is not a strong correlation with active minutes and weight, besides participant 1927972279. Which leads me to believe that the data is not useable because of inconsistent weight logs. Also, without other factors including gender, height,and age, it is really difficult to come to any solid conclusions regarding weight and smart device usage."
   ]
  },
  {
   "cell_type": "markdown",
   "id": "8cfd1a59",
   "metadata": {
    "papermill": {
     "duration": 0.061858,
     "end_time": "2021-06-11T22:14:43.013960",
     "exception": false,
     "start_time": "2021-06-11T22:14:42.952102",
     "status": "completed"
    },
    "tags": []
   },
   "source": [
    "\n",
    "\n",
    "## Step Five: **Key Takeaways**\n",
    "\n",
    "#### While it was difficult to make any concrete correlations between activity and calorie expenditure/weight loss, this case study did show that users are consistently using their fitness trackers for step counting.  Some even agree that daily step counts of at least 10k can contribute to weight loss.\n",
    "\n",
    "#### Another observation that can be noted is that participants are not using their smart devices consistently for either tracking sleeping habits, nor logging their daily weight.\n",
    "\n",
    "###  **Marketing Recommendations**\n",
    "\n",
    "> -   Engineer a device that is comfortable to wear in the day as well as night, to help incentivize sleep tracking. \n",
    "\n",
    "> -   Bellabeat may want to consider developing and selling a weight scale that can connect via Bluetooth to Bellabeat smart devices only, to encourage daily weight tracking which will in turn lead to user weight loss.\n",
    "\n",
    "> -   Thirdly, Bellabeat can create a social media app for Bellabeat users only, where users can make connections, see other user's daily progress, achieve \"trophies\" based on activity, etc.\n",
    " \n"
   ]
  },
  {
   "cell_type": "markdown",
   "id": "ea05303f",
   "metadata": {
    "papermill": {
     "duration": 0.062942,
     "end_time": "2021-06-11T22:14:43.138284",
     "exception": false,
     "start_time": "2021-06-11T22:14:43.075342",
     "status": "completed"
    },
    "tags": []
   },
   "source": [
    "## Step Six: **Conclusion**\n",
    "\n",
    "#### Although this dataset had plenty of data with which to work, there were some key elements missing to make a complete and thorough analysis.  Not knowing gender or age made it difficult to arrive at any real concrete resolutions.  That being said, I believe we did make some headway as far as marketing recommendations based on the data available."
   ]
  }
 ],
 "metadata": {
  "kernelspec": {
   "display_name": "R",
   "language": "R",
   "name": "ir"
  },
  "language_info": {
   "codemirror_mode": "r",
   "file_extension": ".r",
   "mimetype": "text/x-r-source",
   "name": "R",
   "pygments_lexer": "r",
   "version": "3.6.3"
  },
  "papermill": {
   "default_parameters": {},
   "duration": 161.919885,
   "end_time": "2021-06-11T22:14:44.211850",
   "environment_variables": {},
   "exception": null,
   "input_path": "__notebook__.ipynb",
   "output_path": "__notebook__.ipynb",
   "parameters": {},
   "start_time": "2021-06-11T22:12:02.291965",
   "version": "2.3.3"
  }
 },
 "nbformat": 4,
 "nbformat_minor": 5
}
